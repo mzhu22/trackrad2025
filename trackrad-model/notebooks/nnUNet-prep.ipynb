{
 "cells": [
  {
   "cell_type": "code",
   "execution_count": 4,
   "id": "2aebc9ff",
   "metadata": {},
   "outputs": [],
   "source": [
    "import json\n",
    "from pathlib import Path\n",
    "\n",
    "import numpy as np\n",
    "import SimpleITK\n",
    "from PIL import Image\n",
    "from tqdm.auto import tqdm\n",
    "\n",
    "DATASETS_DIR = Path(\"/rodata/mnradonc_dev/m299164/trackrad/datasets\")\n",
    "\n",
    "nnUNet_raw = DATASETS_DIR / \"nnUNet/nnUNet_raw\"\n",
    "nnUNet_preprocessed = DATASETS_DIR / \"nnUNet/nnUNet_preprocessed\"\n",
    "nnUNet_results = DATASETS_DIR / \"nnUNet/nnUNet_results\"\n",
    "\n",
    "INPUT_DIR = DATASETS_DIR / \"trackrad2025/trackrad2025_labeled_training_data\"\n",
    "SUGGESTED_MASKS_DIR = Path(\"./train-unet\")"
   ]
  },
  {
   "cell_type": "code",
   "execution_count": 6,
   "id": "9b5f91fb",
   "metadata": {},
   "outputs": [
    {
     "data": {
      "application/vnd.jupyter.widget-view+json": {
       "model_id": "bc64d3b50a4a4161ad6b18f497e91a67",
       "version_major": 2,
       "version_minor": 0
      },
      "text/plain": [
       "  0%|          | 0/50 [00:00<?, ?it/s]"
      ]
     },
     "metadata": {},
     "output_type": "display_data"
    }
   ],
   "source": [
    "dataset_idx = 473\n",
    "dataset_name = \"TrackRadSmooth15\"\n",
    "frame_count = 15\n",
    "assert frame_count >= 1\n",
    "\n",
    "case_dirs = sorted(case for case in INPUT_DIR.iterdir())\n",
    "count = 0\n",
    "DAVIS_PALETTE = b\"\\x00\\x00\\x00\\x80\\x00\\x00\\x00\\x80\\x00\\x80\\x80\\x00\\x00\\x00\\x80\\x80\\x00\\x80\\x00\\x80\\x80\\x80\\x80\\x80@\\x00\\x00\\xc0\\x00\\x00@\\x80\\x00\\xc0\\x80\\x00@\\x00\\x80\\xc0\\x00\\x80@\\x80\\x80\\xc0\\x80\\x80\\x00@\\x00\\x80@\\x00\\x00\\xc0\\x00\\x80\\xc0\\x00\\x00@\\x80\\x80@\\x80\\x00\\xc0\\x80\\x80\\xc0\\x80@@\\x00\\xc0@\\x00@\\xc0\\x00\\xc0\\xc0\\x00@@\\x80\\xc0@\\x80@\\xc0\\x80\\xc0\\xc0\\x80\\x00\\x00@\\x80\\x00@\\x00\\x80@\\x80\\x80@\\x00\\x00\\xc0\\x80\\x00\\xc0\\x00\\x80\\xc0\\x80\\x80\\xc0@\\x00@\\xc0\\x00@@\\x80@\\xc0\\x80@@\\x00\\xc0\\xc0\\x00\\xc0@\\x80\\xc0\\xc0\\x80\\xc0\\x00@@\\x80@@\\x00\\xc0@\\x80\\xc0@\\x00@\\xc0\\x80@\\xc0\\x00\\xc0\\xc0\\x80\\xc0\\xc0@@@\\xc0@@@\\xc0@\\xc0\\xc0@@@\\xc0\\xc0@\\xc0@\\xc0\\xc0\\xc0\\xc0\\xc0 \\x00\\x00\\xa0\\x00\\x00 \\x80\\x00\\xa0\\x80\\x00 \\x00\\x80\\xa0\\x00\\x80 \\x80\\x80\\xa0\\x80\\x80`\\x00\\x00\\xe0\\x00\\x00`\\x80\\x00\\xe0\\x80\\x00`\\x00\\x80\\xe0\\x00\\x80`\\x80\\x80\\xe0\\x80\\x80 @\\x00\\xa0@\\x00 \\xc0\\x00\\xa0\\xc0\\x00 @\\x80\\xa0@\\x80 \\xc0\\x80\\xa0\\xc0\\x80`@\\x00\\xe0@\\x00`\\xc0\\x00\\xe0\\xc0\\x00`@\\x80\\xe0@\\x80`\\xc0\\x80\\xe0\\xc0\\x80 \\x00@\\xa0\\x00@ \\x80@\\xa0\\x80@ \\x00\\xc0\\xa0\\x00\\xc0 \\x80\\xc0\\xa0\\x80\\xc0`\\x00@\\xe0\\x00@`\\x80@\\xe0\\x80@`\\x00\\xc0\\xe0\\x00\\xc0`\\x80\\xc0\\xe0\\x80\\xc0 @@\\xa0@@ \\xc0@\\xa0\\xc0@ @\\xc0\\xa0@\\xc0 \\xc0\\xc0\\xa0\\xc0\\xc0`@@\\xe0@@`\\xc0@\\xe0\\xc0@`@\\xc0\\xe0@\\xc0`\\xc0\\xc0\\xe0\\xc0\\xc0\\x00 \\x00\\x80 \\x00\\x00\\xa0\\x00\\x80\\xa0\\x00\\x00 \\x80\\x80 \\x80\\x00\\xa0\\x80\\x80\\xa0\\x80@ \\x00\\xc0 \\x00@\\xa0\\x00\\xc0\\xa0\\x00@ \\x80\\xc0 \\x80@\\xa0\\x80\\xc0\\xa0\\x80\\x00`\\x00\\x80`\\x00\\x00\\xe0\\x00\\x80\\xe0\\x00\\x00`\\x80\\x80`\\x80\\x00\\xe0\\x80\\x80\\xe0\\x80@`\\x00\\xc0`\\x00@\\xe0\\x00\\xc0\\xe0\\x00@`\\x80\\xc0`\\x80@\\xe0\\x80\\xc0\\xe0\\x80\\x00 @\\x80 @\\x00\\xa0@\\x80\\xa0@\\x00 \\xc0\\x80 \\xc0\\x00\\xa0\\xc0\\x80\\xa0\\xc0@ @\\xc0 @@\\xa0@\\xc0\\xa0@@ \\xc0\\xc0 \\xc0@\\xa0\\xc0\\xc0\\xa0\\xc0\\x00`@\\x80`@\\x00\\xe0@\\x80\\xe0@\\x00`\\xc0\\x80`\\xc0\\x00\\xe0\\xc0\\x80\\xe0\\xc0@`@\\xc0`@@\\xe0@\\xc0\\xe0@@`\\xc0\\xc0`\\xc0@\\xe0\\xc0\\xc0\\xe0\\xc0  \\x00\\xa0 \\x00 \\xa0\\x00\\xa0\\xa0\\x00  \\x80\\xa0 \\x80 \\xa0\\x80\\xa0\\xa0\\x80` \\x00\\xe0 \\x00`\\xa0\\x00\\xe0\\xa0\\x00` \\x80\\xe0 \\x80`\\xa0\\x80\\xe0\\xa0\\x80 `\\x00\\xa0`\\x00 \\xe0\\x00\\xa0\\xe0\\x00 `\\x80\\xa0`\\x80 \\xe0\\x80\\xa0\\xe0\\x80``\\x00\\xe0`\\x00`\\xe0\\x00\\xe0\\xe0\\x00``\\x80\\xe0`\\x80`\\xe0\\x80\\xe0\\xe0\\x80  @\\xa0 @ \\xa0@\\xa0\\xa0@  \\xc0\\xa0 \\xc0 \\xa0\\xc0\\xa0\\xa0\\xc0` @\\xe0 @`\\xa0@\\xe0\\xa0@` \\xc0\\xe0 \\xc0`\\xa0\\xc0\\xe0\\xa0\\xc0 `@\\xa0`@ \\xe0@\\xa0\\xe0@ `\\xc0\\xa0`\\xc0 \\xe0\\xc0\\xa0\\xe0\\xc0``@\\xe0`@`\\xe0@\\xe0\\xe0@``\\xc0\\xe0`\\xc0`\\xe0\\xc0\\xe0\\xe0\\xc0\"\n",
    "dataset_dir = nnUNet_raw / f\"Dataset{dataset_idx}_{dataset_name}\"\n",
    "dataset_dir.mkdir(parents=True, exist_ok=True)\n",
    "for train_case in tqdm(case_dirs):\n",
    "    dataset_json = dataset_dir / \"dataset.json\"\n",
    "    images_dir = dataset_dir / \"imagesTr\"\n",
    "    labels_dir = dataset_dir / \"labelsTr\"\n",
    "\n",
    "    images_dir.mkdir(parents=True, exist_ok=True)\n",
    "    labels_dir.mkdir(parents=True, exist_ok=True)\n",
    "\n",
    "    images_file = train_case / \"images\" / f\"{train_case.name}_frames.mha\"\n",
    "    labels_file = train_case / \"targets\" / f\"{train_case.name}_labels.mha\"\n",
    "\n",
    "    images_array = SimpleITK.GetArrayFromImage(SimpleITK.ReadImage(str(images_file)))\n",
    "\n",
    "    labels_array = SimpleITK.GetArrayFromImage(SimpleITK.ReadImage(str(labels_file)))\n",
    "    suggested_mask_pngs = (SUGGESTED_MASKS_DIR / train_case.name / \"annotations\").glob(\n",
    "        \"*.png\"\n",
    "    )\n",
    "    suggested_mask_pngs = sorted(suggested_mask_pngs)\n",
    "\n",
    "    assert images_array.shape[-1] == labels_array.shape[-1] == len(suggested_mask_pngs)\n",
    "\n",
    "    for i in range(images_array.shape[-1]):\n",
    "        case_id = f\"{train_case.name}-{i:04d}\"\n",
    "        for j in range(frame_count):\n",
    "            frame_idx = i - (frame_count - 1) + j\n",
    "            # Repeat frames if we're at the beginning\n",
    "            if frame_idx < 0:\n",
    "                frame_idx = 0\n",
    "            image = images_array[..., frame_idx].squeeze()\n",
    "            suggested_mask = Image.open(suggested_mask_pngs[frame_idx])\n",
    "            suggested_mask = np.array(suggested_mask)\n",
    "\n",
    "            raw_image_path = images_dir / f\"{case_id}_{2 * j:04d}.png\"\n",
    "            suggested_mask_path = images_dir / f\"{case_id}_{2 * j + 1:04d}.png\"\n",
    "\n",
    "            img = Image.fromarray(image).save(raw_image_path)\n",
    "            mask = Image.fromarray(suggested_mask)\n",
    "            # mask.putpalette(DAVIS_PALETTE)\n",
    "            mask.save(suggested_mask_path)\n",
    "\n",
    "        label_png_path = labels_dir / f\"{case_id}.png\"\n",
    "        label = Image.fromarray(labels_array[..., i])\n",
    "        # label.putpalette(DAVIS_PALETTE)\n",
    "        label.save(label_png_path)\n",
    "\n",
    "        count += 1\n",
    "\n",
    "    channel_names = [\"raw_image\", \"suggested_mask\"] * frame_count\n",
    "    metadata = {\n",
    "        \"channel_names\": {str(i): name for i, name in enumerate(channel_names)},\n",
    "        \"labels\": {\n",
    "            \"background\": 0,\n",
    "            \"lesion\": 1,\n",
    "        },\n",
    "        \"numTraining\": count,\n",
    "        \"file_ending\": \".png\",\n",
    "    }\n",
    "    dataset_json.write_text(json.dumps(metadata, indent=4))"
   ]
  }
 ],
 "metadata": {
  "kernelspec": {
   "display_name": "trackrad-model",
   "language": "python",
   "name": "python3"
  },
  "language_info": {
   "codemirror_mode": {
    "name": "ipython",
    "version": 3
   },
   "file_extension": ".py",
   "mimetype": "text/x-python",
   "name": "python",
   "nbconvert_exporter": "python",
   "pygments_lexer": "ipython3",
   "version": "3.11.5"
  }
 },
 "nbformat": 4,
 "nbformat_minor": 5
}
