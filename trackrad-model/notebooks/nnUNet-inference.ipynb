{
 "cells": [
  {
   "cell_type": "code",
   "execution_count": null,
   "id": "fe415752",
   "metadata": {},
   "outputs": [],
   "source": [
    "import os\n",
    "from pathlib import Path\n",
    "\n",
    "from nnunetv2.inference.predict_from_raw_data import nnUNetPredictor\n",
    "from tqdm import tqdm\n",
    "\n",
    "os.environ[\"CUDA_VISIBLE_DEVICES\"] = \"2\"\n",
    "os.environ[\"OPENBLAS_NUM_THREADS\"] = \"1\"\n",
    "os.environ[\"nnUNet_def_n_proc\"] = \"1\"\n",
    "os.environ[\"OMP_NUM_THREADS\"] = \"1\"\n",
    "\n",
    "# tqdm.disable = True\n",
    "\n",
    "NN_UNET_MODEL_FOLDER = \"./resources/nnUNet\"\n",
    "INPUT_FOLDER = \"./tmp/nnUNet-input\"\n",
    "OUTPUT_FOLDER = \"./tmp/nnUNet-output\"\n",
    "\n",
    "NN_UNET_MODEL_FOLDER = \"/rodata/mnradonc_dev/m299164/trackrad/datasets/nnUNet/nnUNet_results/Dataset451_TrackRad/nnUNetTrainer__nnUNetResEncUNetLPlans__2d\"\n",
    "INPUT_FOLDER = \"./imagesTr\"\n",
    "OUTPUT_FOLDER = \"./tmp/nnUNet-output\"\n",
    "Path(OUTPUT_FOLDER).mkdir(parents=True, exist_ok=True)\n",
    "\n",
    "unet = nnUNetPredictor()\n",
    "unet.initialize_from_trained_model_folder(\n",
    "    model_training_output_dir=NN_UNET_MODEL_FOLDER,\n",
    "    use_folds=[3],\n",
    ")\n",
    "unet.predict_from_files(\n",
    "    INPUT_FOLDER,\n",
    "    OUTPUT_FOLDER,\n",
    ")"
   ]
  },
  {
   "cell_type": "code",
   "execution_count": null,
   "id": "cfff6f5b",
   "metadata": {},
   "outputs": [
    {
     "data": {
      "image/png": "[encoded data removed]",
      "text/plain": [
       "<Figure size 640x480 with 1 Axes>"
      ]
     },
     "metadata": {},
     "output_type": "display_data"
    }
   ],
   "source": [
    "import matplotlib.pyplot as plt\n",
    "import numpy as np\n",
    "from PIL import Image\n",
    "\n",
    "img_path = \"./imagesTr/A_001-0000_0001.png\"\n",
    "img = Image.open(img_path)\n",
    "plt.imshow(img, cmap=\"gray\")\n",
    "plt.axis(\"off\")\n",
    "plt.show()"
   ]
  }
 ],
 "metadata": {
  "kernelspec": {
   "display_name": "trackrad-model",
   "language": "python",
   "name": "python3"
  },
  "language_info": {
   "codemirror_mode": {
    "name": "ipython",
    "version": 3
   },
   "file_extension": ".py",
   "mimetype": "text/x-python",
   "name": "python",
   "nbconvert_exporter": "python",
   "pygments_lexer": "ipython3",
   "version": "3.11.5"
  }
 },
 "nbformat": 4,
 "nbformat_minor": 5
}
