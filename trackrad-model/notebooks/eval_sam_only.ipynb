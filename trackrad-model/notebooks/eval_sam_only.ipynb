{
 "cells": [
  {
   "cell_type": "code",
   "execution_count": null,
   "id": "a8064043",
   "metadata": {},
   "outputs": [
    {
     "name": "stdout",
     "output_type": "stream",
     "text": [
      "nnUNet_raw is not defined and nnU-Net can only be used on data for which preprocessed files are already present on your system. nnU-Net cannot be used for experiment planning and preprocessing like this. If this is not intended, please read documentation/setting_up_paths.md for information on how to set this up properly.\n",
      "nnUNet_preprocessed is not defined and nnU-Net can not be used for preprocessing or training. If this is not intended, please read documentation/setting_up_paths.md for information on how to set this up.\n",
      "nnUNet_results is not defined and nnU-Net cannot be used for training or inference. If this is not intended behavior, please read documentation/setting_up_paths.md for information on how to set this up.\n"
     ]
    }
   ],
   "source": [
    "import json\n",
    "import os\n",
    "import shutil\n",
    "import uuid\n",
    "from datetime import datetime\n",
    "from pathlib import Path\n",
    "from pprint import pprint\n",
    "\n",
    "from tqdm.auto import tqdm\n",
    "\n",
    "from .. import evaluate, inference\n",
    "\n",
    "os.environ[\"CUDA_VISIBLE_DEVICES\"] = \"0\"\n",
    "os.environ[\"OPENBLAS_NUM_THREADS\"] = \"4\"\n",
    "os.environ[\"nnUNet_def_n_proc\"] = \"4\"\n",
    "# os.environ[\"OMP_NUM_THREADS\"] = \"1\"\n",
    "MODEL_OUT_PATH = Path(\"./tmp/predictions\")\n",
    "EVAL_OUT_PATH = Path(\"./tmp/output\")\n",
    "\n",
    "SAM2_CHECKPOINT = Path(\n",
    "    \"/rodata/mnradonc_dev/m299164/trackrad/model-training/sam2/sam2_logs/configs/sam2.1_training/sam2.1_hiera_s_trackrad_08_04_mri_ext_copy.yaml/checkpoints/checkpoint.pt\"\n",
    ")\n",
    "\n",
    "INPUT_PATH = Path(\n",
    "    \"/rodata/mnradonc_dev/m299164/trackrad/datasets/trackrad2025/trackrad2025_labeled_training_data\"\n",
    ")\n",
    "\n",
    "\n",
    "os.environ[\"CUDA_VISIBLE_DEVICES\"] = \"0\""
   ]
  },
  {
   "cell_type": "code",
   "execution_count": 2,
   "id": "39819351",
   "metadata": {},
   "outputs": [],
   "source": [
    "shutil.rmtree(\"./tmp\", ignore_errors=True)\n",
    "\n",
    "\n",
    "def prediction_json(\n",
    "    cohort: str, job_id: str, case_id: str, start_time: str, end_time: str\n",
    ") -> str:\n",
    "    return json.dumps(\n",
    "        {\n",
    "            \"pk\": job_id,\n",
    "            \"ground_truth_directory\": str(INPUT_PATH),\n",
    "            \"input_directory\": str(MODEL_OUT_PATH / cohort),\n",
    "            \"output_directory\": str(EVAL_OUT_PATH / cohort),\n",
    "            \"inputs\": [\n",
    "                {\"value\": 8, \"interface\": {\"slug\": \"frame-rate\"}},\n",
    "                {\"value\": 1.5, \"interface\": {\"slug\": \"magnetic-field-strength\"}},\n",
    "                {\"value\": \"abdomen\", \"interface\": {\"slug\": \"scanned-region\"}},\n",
    "                {\n",
    "                    \"image\": {\"name\": \"mri-linac-target.mha\"},\n",
    "                    \"interface\": {\n",
    "                        \"slug\": \"mri-linac-target\",\n",
    "                        \"relative_path\": \"images/mri-linac-target\",\n",
    "                    },\n",
    "                },\n",
    "                {\n",
    "                    \"image\": {\"name\": f\"{case_id}.mha\"},\n",
    "                    \"interface\": {\n",
    "                        \"slug\": \"mri-linac-series\",\n",
    "                        \"relative_path\": \"images/mri-linacs\",\n",
    "                    },\n",
    "                },\n",
    "            ],\n",
    "            \"status\": \"Succeeded\",\n",
    "            \"outputs\": [\n",
    "                {\n",
    "                    \"image\": {\"name\": \"output.mha\"},\n",
    "                    \"interface\": {\n",
    "                        \"slug\": \"mri-linac-series-targets\",\n",
    "                        \"relative_path\": \"images/mri-linac-series-targets\",\n",
    "                    },\n",
    "                }\n",
    "            ],\n",
    "            \"started_at\": start_time,\n",
    "            \"completed_at\": end_time,\n",
    "        }\n",
    "    )"
   ]
  },
  {
   "cell_type": "code",
   "execution_count": 3,
   "id": "b16a440a",
   "metadata": {},
   "outputs": [
    {
     "data": {
      "application/vnd.jupyter.widget-view+json": {
       "model_id": "3984f0f8958e4b5e9739acb1cecfe858",
       "version_major": 2,
       "version_minor": 0
      },
      "text/plain": [
       "  0%|          | 0/50 [00:00<?, ?it/s]"
      ]
     },
     "metadata": {},
     "output_type": "display_data"
    },
    {
     "name": "stdout",
     "output_type": "stream",
     "text": [
      "Processing case: /rodata/mnradonc_dev/m299164/trackrad/datasets/trackrad2025/trackrad2025_labeled_training_data/A_026\n",
      "Runtime loading:   4.79176 s\n"
     ]
    },
    {
     "name": "stderr",
     "output_type": "stream",
     "text": [
      "frame loading (JPEG): 100%|██████████| 100/100 [00:02<00:00, 47.15it/s]\n",
      "/rodata/mnradonc_dev/m299164/trackrad/trackrad-model/.venv/lib/python3.11/site-packages/sam2/sam2_video_predictor.py:786: UserWarning: cannot import name '_C' from 'sam2' (/rodata/mnradonc_dev/m299164/trackrad/trackrad-model/.venv/lib/python3.11/site-packages/sam2/__init__.py)\n",
      "\n",
      "Skipping the post-processing step due to the error above. You can still use SAM 2 and it's OK to ignore the error above, although some post-processing functionality may be limited (which doesn't affect the results in most cases; see https://github.com/facebookresearch/sam2/blob/main/INSTALL.md).\n",
      "  pred_masks_gpu = fill_holes_in_mask_scores(\n",
      "propagate in video: 100%|██████████| 100/100 [00:02<00:00, 48.49it/s]\n"
     ]
    },
    {
     "name": "stdout",
     "output_type": "stream",
     "text": [
      "Runtime algorithm: 5.40249 s\n",
      "Runtime writing:   0.01080 s\n",
      "Processing case: /rodata/mnradonc_dev/m299164/trackrad/datasets/trackrad2025/trackrad2025_labeled_training_data/A_010\n",
      "Runtime loading:   1.69308 s\n"
     ]
    },
    {
     "name": "stderr",
     "output_type": "stream",
     "text": [
      "frame loading (JPEG): 100%|██████████| 239/239 [00:05<00:00, 43.15it/s]\n",
      "propagate in video: 100%|██████████| 239/239 [00:05<00:00, 47.47it/s]\n"
     ]
    },
    {
     "name": "stdout",
     "output_type": "stream",
     "text": [
      "Runtime algorithm: 13.45064 s\n",
      "Runtime writing:   0.01276 s\n",
      "Processing case: /rodata/mnradonc_dev/m299164/trackrad/datasets/trackrad2025/trackrad2025_labeled_training_data/A_003\n",
      "Runtime loading:   1.57486 s\n"
     ]
    },
    {
     "name": "stderr",
     "output_type": "stream",
     "text": [
      "frame loading (JPEG): 100%|██████████| 167/167 [00:03<00:00, 42.63it/s]\n",
      "propagate in video: 100%|██████████| 167/167 [00:03<00:00, 48.59it/s]\n"
     ]
    },
    {
     "name": "stdout",
     "output_type": "stream",
     "text": [
      "Runtime algorithm: 9.27173 s\n",
      "Runtime writing:   0.01284 s\n",
      "Processing case: /rodata/mnradonc_dev/m299164/trackrad/datasets/trackrad2025/trackrad2025_labeled_training_data/B_023\n",
      "Runtime loading:   2.04995 s\n"
     ]
    },
    {
     "name": "stderr",
     "output_type": "stream",
     "text": [
      "frame loading (JPEG): 100%|██████████| 97/97 [00:02<00:00, 41.48it/s]\n",
      "propagate in video: 100%|██████████| 97/97 [00:02<00:00, 48.09it/s]\n"
     ]
    },
    {
     "name": "stdout",
     "output_type": "stream",
     "text": [
      "Runtime algorithm: 5.63676 s\n",
      "Runtime writing:   0.01341 s\n",
      "Processing case: /rodata/mnradonc_dev/m299164/trackrad/datasets/trackrad2025/trackrad2025_labeled_training_data/A_014\n",
      "Runtime loading:   1.62293 s\n"
     ]
    },
    {
     "name": "stderr",
     "output_type": "stream",
     "text": [
      "frame loading (JPEG): 100%|██████████| 90/90 [00:02<00:00, 43.71it/s]\n",
      "propagate in video: 100%|██████████| 90/90 [00:01<00:00, 45.10it/s]\n"
     ]
    },
    {
     "name": "stdout",
     "output_type": "stream",
     "text": [
      "Runtime algorithm: 4.84531 s\n",
      "Runtime writing:   0.00887 s\n",
      "Processing case: /rodata/mnradonc_dev/m299164/trackrad/datasets/trackrad2025/trackrad2025_labeled_training_data/B_003\n",
      "Runtime loading:   1.69238 s\n"
     ]
    },
    {
     "name": "stderr",
     "output_type": "stream",
     "text": [
      "frame loading (JPEG): 100%|██████████| 92/92 [00:02<00:00, 40.07it/s]\n",
      "propagate in video: 100%|██████████| 92/92 [00:02<00:00, 44.54it/s]\n"
     ]
    },
    {
     "name": "stdout",
     "output_type": "stream",
     "text": [
      "Runtime algorithm: 5.62761 s\n",
      "Runtime writing:   0.01813 s\n",
      "Processing case: /rodata/mnradonc_dev/m299164/trackrad/datasets/trackrad2025/trackrad2025_labeled_training_data/C_004\n",
      "Runtime loading:   1.78599 s\n"
     ]
    },
    {
     "name": "stderr",
     "output_type": "stream",
     "text": [
      "frame loading (JPEG): 100%|██████████| 47/47 [00:01<00:00, 39.92it/s]\n",
      "propagate in video: 100%|██████████| 47/47 [00:01<00:00, 45.06it/s]\n"
     ]
    },
    {
     "name": "stdout",
     "output_type": "stream",
     "text": [
      "Runtime algorithm: 2.86742 s\n",
      "Runtime writing:   0.01176 s\n",
      "Processing case: /rodata/mnradonc_dev/m299164/trackrad/datasets/trackrad2025/trackrad2025_labeled_training_data/C_016\n",
      "Runtime loading:   1.61356 s\n"
     ]
    },
    {
     "name": "stderr",
     "output_type": "stream",
     "text": [
      "frame loading (JPEG): 100%|██████████| 44/44 [00:01<00:00, 39.75it/s]\n",
      "propagate in video: 100%|██████████| 44/44 [00:00<00:00, 45.69it/s]\n"
     ]
    },
    {
     "name": "stdout",
     "output_type": "stream",
     "text": [
      "Runtime algorithm: 2.63940 s\n",
      "Runtime writing:   0.00898 s\n",
      "Processing case: /rodata/mnradonc_dev/m299164/trackrad/datasets/trackrad2025/trackrad2025_labeled_training_data/C_001\n",
      "Runtime loading:   2.04065 s\n"
     ]
    },
    {
     "name": "stderr",
     "output_type": "stream",
     "text": [
      "frame loading (JPEG): 100%|██████████| 47/47 [00:01<00:00, 38.55it/s]\n",
      "propagate in video: 100%|██████████| 47/47 [00:01<00:00, 43.46it/s]\n"
     ]
    },
    {
     "name": "stdout",
     "output_type": "stream",
     "text": [
      "Runtime algorithm: 2.90557 s\n",
      "Runtime writing:   0.01011 s\n",
      "Processing case: /rodata/mnradonc_dev/m299164/trackrad/datasets/trackrad2025/trackrad2025_labeled_training_data/A_022\n",
      "Runtime loading:   1.57853 s\n"
     ]
    },
    {
     "name": "stderr",
     "output_type": "stream",
     "text": [
      "frame loading (JPEG): 100%|██████████| 100/100 [00:02<00:00, 38.69it/s]\n",
      "propagate in video: 100%|██████████| 100/100 [00:02<00:00, 45.28it/s]\n"
     ]
    },
    {
     "name": "stdout",
     "output_type": "stream",
     "text": [
      "Runtime algorithm: 5.67863 s\n",
      "Runtime writing:   0.00964 s\n",
      "Processing case: /rodata/mnradonc_dev/m299164/trackrad/datasets/trackrad2025/trackrad2025_labeled_training_data/A_016\n",
      "Runtime loading:   1.82382 s\n"
     ]
    },
    {
     "name": "stderr",
     "output_type": "stream",
     "text": [
      "frame loading (JPEG): 100%|██████████| 169/169 [00:04<00:00, 39.40it/s]\n",
      "propagate in video: 100%|██████████| 169/169 [00:03<00:00, 45.20it/s]\n"
     ]
    },
    {
     "name": "stdout",
     "output_type": "stream",
     "text": [
      "Runtime algorithm: 10.09844 s\n",
      "Runtime writing:   0.01579 s\n",
      "Processing case: /rodata/mnradonc_dev/m299164/trackrad/datasets/trackrad2025/trackrad2025_labeled_training_data/A_008\n",
      "Runtime loading:   1.61835 s\n"
     ]
    },
    {
     "name": "stderr",
     "output_type": "stream",
     "text": [
      "frame loading (JPEG): 100%|██████████| 100/100 [00:02<00:00, 37.67it/s]\n",
      "propagate in video: 100%|██████████| 100/100 [00:02<00:00, 45.51it/s]\n"
     ]
    },
    {
     "name": "stdout",
     "output_type": "stream",
     "text": [
      "Runtime algorithm: 5.97071 s\n",
      "Runtime writing:   0.01443 s\n",
      "Processing case: /rodata/mnradonc_dev/m299164/trackrad/datasets/trackrad2025/trackrad2025_labeled_training_data/C_010\n",
      "Runtime loading:   1.58782 s\n"
     ]
    },
    {
     "name": "stderr",
     "output_type": "stream",
     "text": [
      "frame loading (JPEG): 100%|██████████| 47/47 [00:01<00:00, 38.71it/s]\n",
      "propagate in video: 100%|██████████| 47/47 [00:01<00:00, 45.99it/s]\n"
     ]
    },
    {
     "name": "stdout",
     "output_type": "stream",
     "text": [
      "Runtime algorithm: 2.83667 s\n",
      "Runtime writing:   0.01220 s\n",
      "Processing case: /rodata/mnradonc_dev/m299164/trackrad/datasets/trackrad2025/trackrad2025_labeled_training_data/A_032\n",
      "Runtime loading:   1.70104 s\n"
     ]
    },
    {
     "name": "stderr",
     "output_type": "stream",
     "text": [
      "frame loading (JPEG): 100%|██████████| 221/221 [00:05<00:00, 38.65it/s]\n",
      "propagate in video: 100%|██████████| 221/221 [00:04<00:00, 45.24it/s]\n"
     ]
    },
    {
     "name": "stdout",
     "output_type": "stream",
     "text": [
      "Runtime algorithm: 12.60655 s\n",
      "Runtime writing:   0.01629 s\n",
      "Processing case: /rodata/mnradonc_dev/m299164/trackrad/datasets/trackrad2025/trackrad2025_labeled_training_data/B_022\n",
      "Runtime loading:   2.10073 s\n"
     ]
    },
    {
     "name": "stderr",
     "output_type": "stream",
     "text": [
      "frame loading (JPEG): 100%|██████████| 97/97 [00:02<00:00, 41.27it/s]\n",
      "propagate in video: 100%|██████████| 97/97 [00:01<00:00, 48.71it/s]\n"
     ]
    },
    {
     "name": "stdout",
     "output_type": "stream",
     "text": [
      "Runtime algorithm: 5.63343 s\n",
      "Runtime writing:   0.01439 s\n",
      "Processing case: /rodata/mnradonc_dev/m299164/trackrad/datasets/trackrad2025/trackrad2025_labeled_training_data/C_009\n",
      "Runtime loading:   1.62175 s\n"
     ]
    },
    {
     "name": "stderr",
     "output_type": "stream",
     "text": [
      "frame loading (JPEG): 100%|██████████| 47/47 [00:01<00:00, 40.00it/s]\n",
      "propagate in video: 100%|██████████| 47/47 [00:00<00:00, 49.08it/s]\n"
     ]
    },
    {
     "name": "stdout",
     "output_type": "stream",
     "text": [
      "Runtime algorithm: 2.72811 s\n",
      "Runtime writing:   0.01182 s\n",
      "Processing case: /rodata/mnradonc_dev/m299164/trackrad/datasets/trackrad2025/trackrad2025_labeled_training_data/A_007\n",
      "Runtime loading:   1.57102 s\n"
     ]
    },
    {
     "name": "stderr",
     "output_type": "stream",
     "text": [
      "frame loading (JPEG): 100%|██████████| 155/155 [00:03<00:00, 38.94it/s]\n",
      "propagate in video: 100%|██████████| 155/155 [00:03<00:00, 47.35it/s]\n"
     ]
    },
    {
     "name": "stdout",
     "output_type": "stream",
     "text": [
      "Runtime algorithm: 8.97202 s\n",
      "Runtime writing:   0.01429 s\n",
      "Processing case: /rodata/mnradonc_dev/m299164/trackrad/datasets/trackrad2025/trackrad2025_labeled_training_data/B_008\n",
      "Runtime loading:   1.42936 s\n"
     ]
    },
    {
     "name": "stderr",
     "output_type": "stream",
     "text": [
      "frame loading (JPEG): 100%|██████████| 92/92 [00:02<00:00, 40.37it/s]\n",
      "propagate in video: 100%|██████████| 92/92 [00:01<00:00, 48.37it/s]\n"
     ]
    },
    {
     "name": "stdout",
     "output_type": "stream",
     "text": [
      "Runtime algorithm: 5.37209 s\n",
      "Runtime writing:   0.01230 s\n",
      "Processing case: /rodata/mnradonc_dev/m299164/trackrad/datasets/trackrad2025/trackrad2025_labeled_training_data/B_017\n",
      "Runtime loading:   1.47248 s\n"
     ]
    },
    {
     "name": "stderr",
     "output_type": "stream",
     "text": [
      "frame loading (JPEG): 100%|██████████| 72/72 [00:01<00:00, 39.42it/s]\n",
      "propagate in video: 100%|██████████| 72/72 [00:01<00:00, 48.66it/s]\n"
     ]
    },
    {
     "name": "stdout",
     "output_type": "stream",
     "text": [
      "Runtime algorithm: 4.31242 s\n",
      "Runtime writing:   0.01295 s\n",
      "Processing case: /rodata/mnradonc_dev/m299164/trackrad/datasets/trackrad2025/trackrad2025_labeled_training_data/C_005\n",
      "Runtime loading:   1.47962 s\n"
     ]
    },
    {
     "name": "stderr",
     "output_type": "stream",
     "text": [
      "frame loading (JPEG): 100%|██████████| 47/47 [00:01<00:00, 39.95it/s]\n",
      "propagate in video: 100%|██████████| 47/47 [00:00<00:00, 48.14it/s]\n"
     ]
    },
    {
     "name": "stdout",
     "output_type": "stream",
     "text": [
      "Runtime algorithm: 2.76112 s\n",
      "Runtime writing:   0.00945 s\n",
      "Processing case: /rodata/mnradonc_dev/m299164/trackrad/datasets/trackrad2025/trackrad2025_labeled_training_data/B_002\n",
      "Runtime loading:   2.01319 s\n"
     ]
    },
    {
     "name": "stderr",
     "output_type": "stream",
     "text": [
      "frame loading (JPEG): 100%|██████████| 97/97 [00:02<00:00, 37.61it/s]\n",
      "propagate in video: 100%|██████████| 97/97 [00:02<00:00, 46.92it/s]\n"
     ]
    },
    {
     "name": "stdout",
     "output_type": "stream",
     "text": [
      "Runtime algorithm: 6.36058 s\n",
      "Runtime writing:   0.02065 s\n",
      "Processing case: /rodata/mnradonc_dev/m299164/trackrad/datasets/trackrad2025/trackrad2025_labeled_training_data/A_028\n",
      "Runtime loading:   1.60619 s\n"
     ]
    },
    {
     "name": "stderr",
     "output_type": "stream",
     "text": [
      "frame loading (JPEG): 100%|██████████| 100/100 [00:02<00:00, 39.95it/s]\n",
      "propagate in video: 100%|██████████| 100/100 [00:02<00:00, 44.24it/s]\n"
     ]
    },
    {
     "name": "stdout",
     "output_type": "stream",
     "text": [
      "Runtime algorithm: 5.76780 s\n",
      "Runtime writing:   0.00990 s\n",
      "Processing case: /rodata/mnradonc_dev/m299164/trackrad/datasets/trackrad2025/trackrad2025_labeled_training_data/A_011\n",
      "Runtime loading:   2.00160 s\n"
     ]
    },
    {
     "name": "stderr",
     "output_type": "stream",
     "text": [
      "frame loading (JPEG): 100%|██████████| 107/107 [00:02<00:00, 36.59it/s]\n",
      "propagate in video: 100%|██████████| 107/107 [00:02<00:00, 44.94it/s]\n"
     ]
    },
    {
     "name": "stdout",
     "output_type": "stream",
     "text": [
      "Runtime algorithm: 6.51768 s\n",
      "Runtime writing:   0.01554 s\n",
      "Processing case: /rodata/mnradonc_dev/m299164/trackrad/datasets/trackrad2025/trackrad2025_labeled_training_data/B_012\n",
      "Runtime loading:   1.45535 s\n"
     ]
    },
    {
     "name": "stderr",
     "output_type": "stream",
     "text": [
      "frame loading (JPEG): 100%|██████████| 95/95 [00:02<00:00, 38.86it/s]\n",
      "propagate in video: 100%|██████████| 95/95 [00:02<00:00, 45.16it/s]\n"
     ]
    },
    {
     "name": "stdout",
     "output_type": "stream",
     "text": [
      "Runtime algorithm: 5.89210 s\n",
      "Runtime writing:   0.01451 s\n",
      "Processing case: /rodata/mnradonc_dev/m299164/trackrad/datasets/trackrad2025/trackrad2025_labeled_training_data/A_021\n",
      "Runtime loading:   1.68670 s\n"
     ]
    },
    {
     "name": "stderr",
     "output_type": "stream",
     "text": [
      "frame loading (JPEG): 100%|██████████| 100/100 [00:02<00:00, 37.69it/s]\n",
      "propagate in video: 100%|██████████| 100/100 [00:02<00:00, 45.13it/s]\n"
     ]
    },
    {
     "name": "stdout",
     "output_type": "stream",
     "text": [
      "Runtime algorithm: 6.16975 s\n",
      "Runtime writing:   0.01283 s\n",
      "Processing case: /rodata/mnradonc_dev/m299164/trackrad/datasets/trackrad2025/trackrad2025_labeled_training_data/A_020\n",
      "Runtime loading:   1.92173 s\n"
     ]
    },
    {
     "name": "stderr",
     "output_type": "stream",
     "text": [
      "frame loading (JPEG): 100%|██████████| 89/89 [00:02<00:00, 40.74it/s]\n",
      "propagate in video: 100%|██████████| 89/89 [00:01<00:00, 45.60it/s]\n"
     ]
    },
    {
     "name": "stdout",
     "output_type": "stream",
     "text": [
      "Runtime algorithm: 4.91611 s\n",
      "Runtime writing:   0.00912 s\n",
      "Processing case: /rodata/mnradonc_dev/m299164/trackrad/datasets/trackrad2025/trackrad2025_labeled_training_data/A_001\n",
      "Runtime loading:   1.97752 s\n"
     ]
    },
    {
     "name": "stderr",
     "output_type": "stream",
     "text": [
      "frame loading (JPEG): 100%|██████████| 100/100 [00:02<00:00, 41.60it/s]\n",
      "propagate in video: 100%|██████████| 100/100 [00:02<00:00, 45.93it/s]\n"
     ]
    },
    {
     "name": "stdout",
     "output_type": "stream",
     "text": [
      "Runtime algorithm: 5.43216 s\n",
      "Runtime writing:   0.00983 s\n",
      "Processing case: /rodata/mnradonc_dev/m299164/trackrad/datasets/trackrad2025/trackrad2025_labeled_training_data/A_012\n",
      "Runtime loading:   1.73958 s\n"
     ]
    },
    {
     "name": "stderr",
     "output_type": "stream",
     "text": [
      "frame loading (JPEG): 100%|██████████| 100/100 [00:02<00:00, 39.62it/s]\n",
      "propagate in video: 100%|██████████| 100/100 [00:02<00:00, 45.22it/s]\n"
     ]
    },
    {
     "name": "stdout",
     "output_type": "stream",
     "text": [
      "Runtime algorithm: 5.65166 s\n",
      "Runtime writing:   0.00929 s\n",
      "Processing case: /rodata/mnradonc_dev/m299164/trackrad/datasets/trackrad2025/trackrad2025_labeled_training_data/B_019\n",
      "Runtime loading:   1.69516 s\n"
     ]
    },
    {
     "name": "stderr",
     "output_type": "stream",
     "text": [
      "frame loading (JPEG): 100%|██████████| 72/72 [00:01<00:00, 39.26it/s]\n",
      "propagate in video: 100%|██████████| 72/72 [00:01<00:00, 45.76it/s]\n"
     ]
    },
    {
     "name": "stdout",
     "output_type": "stream",
     "text": [
      "Runtime algorithm: 4.42082 s\n",
      "Runtime writing:   0.01290 s\n",
      "Processing case: /rodata/mnradonc_dev/m299164/trackrad/datasets/trackrad2025/trackrad2025_labeled_training_data/A_006\n",
      "Runtime loading:   1.73040 s\n"
     ]
    },
    {
     "name": "stderr",
     "output_type": "stream",
     "text": [
      "frame loading (JPEG): 100%|██████████| 200/200 [00:05<00:00, 39.87it/s]\n",
      "propagate in video: 100%|██████████| 200/200 [00:04<00:00, 45.83it/s]\n"
     ]
    },
    {
     "name": "stdout",
     "output_type": "stream",
     "text": [
      "Runtime algorithm: 11.51372 s\n",
      "Runtime writing:   0.02032 s\n",
      "Processing case: /rodata/mnradonc_dev/m299164/trackrad/datasets/trackrad2025/trackrad2025_labeled_training_data/C_008\n",
      "Runtime loading:   1.52783 s\n"
     ]
    },
    {
     "name": "stderr",
     "output_type": "stream",
     "text": [
      "frame loading (JPEG): 100%|██████████| 47/47 [00:01<00:00, 40.19it/s]\n",
      "propagate in video: 100%|██████████| 47/47 [00:00<00:00, 47.68it/s]\n"
     ]
    },
    {
     "name": "stdout",
     "output_type": "stream",
     "text": [
      "Runtime algorithm: 2.77231 s\n",
      "Runtime writing:   0.00874 s\n",
      "Processing case: /rodata/mnradonc_dev/m299164/trackrad/datasets/trackrad2025/trackrad2025_labeled_training_data/B_025\n",
      "Runtime loading:   1.71848 s\n"
     ]
    },
    {
     "name": "stderr",
     "output_type": "stream",
     "text": [
      "frame loading (JPEG): 100%|██████████| 97/97 [00:02<00:00, 39.61it/s]\n",
      "propagate in video: 100%|██████████| 97/97 [00:02<00:00, 46.82it/s]\n"
     ]
    },
    {
     "name": "stdout",
     "output_type": "stream",
     "text": [
      "Runtime algorithm: 5.83132 s\n",
      "Runtime writing:   0.01428 s\n",
      "Processing case: /rodata/mnradonc_dev/m299164/trackrad/datasets/trackrad2025/trackrad2025_labeled_training_data/B_007\n",
      "Runtime loading:   2.06271 s\n"
     ]
    },
    {
     "name": "stderr",
     "output_type": "stream",
     "text": [
      "frame loading (JPEG): 100%|██████████| 92/92 [00:02<00:00, 40.89it/s]\n",
      "propagate in video: 100%|██████████| 92/92 [00:01<00:00, 46.99it/s]\n"
     ]
    },
    {
     "name": "stdout",
     "output_type": "stream",
     "text": [
      "Runtime algorithm: 5.38704 s\n",
      "Runtime writing:   0.01282 s\n",
      "Processing case: /rodata/mnradonc_dev/m299164/trackrad/datasets/trackrad2025/trackrad2025_labeled_training_data/A_024\n",
      "Runtime loading:   1.67265 s\n"
     ]
    },
    {
     "name": "stderr",
     "output_type": "stream",
     "text": [
      "frame loading (JPEG): 100%|██████████| 100/100 [00:02<00:00, 39.14it/s]\n",
      "propagate in video: 100%|██████████| 100/100 [00:02<00:00, 46.31it/s]\n"
     ]
    },
    {
     "name": "stdout",
     "output_type": "stream",
     "text": [
      "Runtime algorithm: 5.78020 s\n",
      "Runtime writing:   0.01130 s\n",
      "Processing case: /rodata/mnradonc_dev/m299164/trackrad/datasets/trackrad2025/trackrad2025_labeled_training_data/C_006\n",
      "Runtime loading:   1.57331 s\n"
     ]
    },
    {
     "name": "stderr",
     "output_type": "stream",
     "text": [
      "frame loading (JPEG): 100%|██████████| 47/47 [00:01<00:00, 40.06it/s]\n",
      "propagate in video: 100%|██████████| 47/47 [00:01<00:00, 46.61it/s]\n"
     ]
    },
    {
     "name": "stdout",
     "output_type": "stream",
     "text": [
      "Runtime algorithm: 2.80416 s\n",
      "Runtime writing:   0.00904 s\n",
      "Processing case: /rodata/mnradonc_dev/m299164/trackrad/datasets/trackrad2025/trackrad2025_labeled_training_data/A_004\n",
      "Runtime loading:   1.57710 s\n"
     ]
    },
    {
     "name": "stderr",
     "output_type": "stream",
     "text": [
      "frame loading (JPEG): 100%|██████████| 100/100 [00:02<00:00, 40.03it/s]\n",
      "propagate in video: 100%|██████████| 100/100 [00:02<00:00, 46.05it/s]\n"
     ]
    },
    {
     "name": "stdout",
     "output_type": "stream",
     "text": [
      "Runtime algorithm: 5.52194 s\n",
      "Runtime writing:   0.00860 s\n",
      "Processing case: /rodata/mnradonc_dev/m299164/trackrad/datasets/trackrad2025/trackrad2025_labeled_training_data/A_013\n",
      "Runtime loading:   1.59570 s\n"
     ]
    },
    {
     "name": "stderr",
     "output_type": "stream",
     "text": [
      "frame loading (JPEG): 100%|██████████| 100/100 [00:02<00:00, 38.52it/s]\n",
      "propagate in video: 100%|██████████| 100/100 [00:02<00:00, 48.06it/s]\n"
     ]
    },
    {
     "name": "stdout",
     "output_type": "stream",
     "text": [
      "Runtime algorithm: 5.77356 s\n",
      "Runtime writing:   0.01029 s\n",
      "Processing case: /rodata/mnradonc_dev/m299164/trackrad/datasets/trackrad2025/trackrad2025_labeled_training_data/B_021\n",
      "Runtime loading:   1.51409 s\n"
     ]
    },
    {
     "name": "stderr",
     "output_type": "stream",
     "text": [
      "frame loading (JPEG): 100%|██████████| 97/97 [00:02<00:00, 37.60it/s]\n",
      "propagate in video: 100%|██████████| 97/97 [00:02<00:00, 48.01it/s]\n"
     ]
    },
    {
     "name": "stdout",
     "output_type": "stream",
     "text": [
      "Runtime algorithm: 5.88274 s\n",
      "Runtime writing:   0.01290 s\n",
      "Processing case: /rodata/mnradonc_dev/m299164/trackrad/datasets/trackrad2025/trackrad2025_labeled_training_data/A_025\n",
      "Runtime loading:   1.91708 s\n"
     ]
    },
    {
     "name": "stderr",
     "output_type": "stream",
     "text": [
      "frame loading (JPEG): 100%|██████████| 100/100 [00:02<00:00, 42.60it/s]\n",
      "propagate in video: 100%|██████████| 100/100 [00:02<00:00, 48.95it/s]\n"
     ]
    },
    {
     "name": "stdout",
     "output_type": "stream",
     "text": [
      "Runtime algorithm: 5.51961 s\n",
      "Runtime writing:   0.01129 s\n",
      "Processing case: /rodata/mnradonc_dev/m299164/trackrad/datasets/trackrad2025/trackrad2025_labeled_training_data/A_029\n",
      "Runtime loading:   1.53994 s\n"
     ]
    },
    {
     "name": "stderr",
     "output_type": "stream",
     "text": [
      "frame loading (JPEG): 100%|██████████| 100/100 [00:02<00:00, 42.44it/s]\n",
      "propagate in video: 100%|██████████| 100/100 [00:02<00:00, 48.82it/s]\n"
     ]
    },
    {
     "name": "stdout",
     "output_type": "stream",
     "text": [
      "Runtime algorithm: 5.50462 s\n",
      "Runtime writing:   0.01179 s\n",
      "Processing case: /rodata/mnradonc_dev/m299164/trackrad/datasets/trackrad2025/trackrad2025_labeled_training_data/B_024\n",
      "Runtime loading:   1.62429 s\n"
     ]
    },
    {
     "name": "stderr",
     "output_type": "stream",
     "text": [
      "frame loading (JPEG): 100%|██████████| 97/97 [00:02<00:00, 39.43it/s]\n",
      "propagate in video: 100%|██████████| 97/97 [00:02<00:00, 48.26it/s]\n"
     ]
    },
    {
     "name": "stdout",
     "output_type": "stream",
     "text": [
      "Runtime algorithm: 5.81630 s\n",
      "Runtime writing:   0.01322 s\n",
      "Processing case: /rodata/mnradonc_dev/m299164/trackrad/datasets/trackrad2025/trackrad2025_labeled_training_data/A_023\n",
      "Runtime loading:   1.50352 s\n"
     ]
    },
    {
     "name": "stderr",
     "output_type": "stream",
     "text": [
      "frame loading (JPEG): 100%|██████████| 100/100 [00:02<00:00, 43.45it/s]\n",
      "propagate in video: 100%|██████████| 100/100 [00:02<00:00, 45.91it/s]\n"
     ]
    },
    {
     "name": "stdout",
     "output_type": "stream",
     "text": [
      "Runtime algorithm: 5.40805 s\n",
      "Runtime writing:   0.00919 s\n",
      "Processing case: /rodata/mnradonc_dev/m299164/trackrad/datasets/trackrad2025/trackrad2025_labeled_training_data/A_019\n",
      "Runtime loading:   1.49520 s\n"
     ]
    },
    {
     "name": "stderr",
     "output_type": "stream",
     "text": [
      "frame loading (JPEG): 100%|██████████| 91/91 [00:02<00:00, 37.13it/s]\n",
      "propagate in video: 100%|██████████| 91/91 [00:01<00:00, 46.45it/s]\n"
     ]
    },
    {
     "name": "stdout",
     "output_type": "stream",
     "text": [
      "Runtime algorithm: 5.20616 s\n",
      "Runtime writing:   0.00868 s\n",
      "Processing case: /rodata/mnradonc_dev/m299164/trackrad/datasets/trackrad2025/trackrad2025_labeled_training_data/A_027\n",
      "Runtime loading:   1.60520 s\n"
     ]
    },
    {
     "name": "stderr",
     "output_type": "stream",
     "text": [
      "frame loading (JPEG): 100%|██████████| 100/100 [00:02<00:00, 43.17it/s]\n",
      "propagate in video: 100%|██████████| 100/100 [00:02<00:00, 46.16it/s]\n"
     ]
    },
    {
     "name": "stdout",
     "output_type": "stream",
     "text": [
      "Runtime algorithm: 5.36782 s\n",
      "Runtime writing:   0.01137 s\n",
      "Processing case: /rodata/mnradonc_dev/m299164/trackrad/datasets/trackrad2025/trackrad2025_labeled_training_data/C_012\n",
      "Runtime loading:   1.82299 s\n"
     ]
    },
    {
     "name": "stderr",
     "output_type": "stream",
     "text": [
      "frame loading (JPEG): 100%|██████████| 47/47 [00:01<00:00, 41.07it/s]\n",
      "propagate in video: 100%|██████████| 47/47 [00:01<00:00, 46.79it/s]\n"
     ]
    },
    {
     "name": "stdout",
     "output_type": "stream",
     "text": [
      "Runtime algorithm: 2.77489 s\n",
      "Runtime writing:   0.00990 s\n",
      "Processing case: /rodata/mnradonc_dev/m299164/trackrad/datasets/trackrad2025/trackrad2025_labeled_training_data/B_026\n",
      "Runtime loading:   1.38118 s\n"
     ]
    },
    {
     "name": "stderr",
     "output_type": "stream",
     "text": [
      "frame loading (JPEG): 100%|██████████| 97/97 [00:02<00:00, 37.25it/s]\n",
      "propagate in video: 100%|██████████| 97/97 [00:02<00:00, 45.11it/s]\n"
     ]
    },
    {
     "name": "stdout",
     "output_type": "stream",
     "text": [
      "Runtime algorithm: 6.14668 s\n",
      "Runtime writing:   0.01297 s\n",
      "Processing case: /rodata/mnradonc_dev/m299164/trackrad/datasets/trackrad2025/trackrad2025_labeled_training_data/A_005\n",
      "Runtime loading:   1.54877 s\n"
     ]
    },
    {
     "name": "stderr",
     "output_type": "stream",
     "text": [
      "frame loading (JPEG): 100%|██████████| 248/248 [00:06<00:00, 39.15it/s]\n",
      "propagate in video: 100%|██████████| 248/248 [00:05<00:00, 44.38it/s]\n"
     ]
    },
    {
     "name": "stdout",
     "output_type": "stream",
     "text": [
      "Runtime algorithm: 14.62409 s\n",
      "Runtime writing:   0.02142 s\n",
      "Processing case: /rodata/mnradonc_dev/m299164/trackrad/datasets/trackrad2025/trackrad2025_labeled_training_data/C_011\n",
      "Runtime loading:   1.66576 s\n"
     ]
    },
    {
     "name": "stderr",
     "output_type": "stream",
     "text": [
      "frame loading (JPEG): 100%|██████████| 47/47 [00:01<00:00, 41.43it/s]\n",
      "propagate in video: 100%|██████████| 47/47 [00:01<00:00, 46.69it/s]\n"
     ]
    },
    {
     "name": "stdout",
     "output_type": "stream",
     "text": [
      "Runtime algorithm: 2.75598 s\n",
      "Runtime writing:   0.00933 s\n",
      "Processing case: /rodata/mnradonc_dev/m299164/trackrad/datasets/trackrad2025/trackrad2025_labeled_training_data/B_010\n",
      "Runtime loading:   1.45998 s\n"
     ]
    },
    {
     "name": "stderr",
     "output_type": "stream",
     "text": [
      "frame loading (JPEG): 100%|██████████| 93/93 [00:02<00:00, 39.95it/s]\n",
      "propagate in video: 100%|██████████| 93/93 [00:01<00:00, 46.52it/s]\n"
     ]
    },
    {
     "name": "stdout",
     "output_type": "stream",
     "text": [
      "Runtime algorithm: 5.61432 s\n",
      "Runtime writing:   0.01243 s\n",
      "Processing case: /rodata/mnradonc_dev/m299164/trackrad/datasets/trackrad2025/trackrad2025_labeled_training_data/B_006\n",
      "Runtime loading:   1.42325 s\n"
     ]
    },
    {
     "name": "stderr",
     "output_type": "stream",
     "text": [
      "frame loading (JPEG): 100%|██████████| 97/97 [00:02<00:00, 39.84it/s]\n",
      "propagate in video: 100%|██████████| 97/97 [00:02<00:00, 46.97it/s]\n"
     ]
    },
    {
     "name": "stdout",
     "output_type": "stream",
     "text": [
      "Runtime algorithm: 5.84966 s\n",
      "Runtime writing:   0.01409 s\n"
     ]
    }
   ],
   "source": [
    "NN_UNET_MODEL_FOLDER = Path(\n",
    "    \"/rodata/mnradonc_dev/m299164/trackrad/datasets/nnUNet/nnUNet_results/Dataset471_TrackRadSmooth5/nnUNetTrainerDAMike__nnUNetPlans__2d\"\n",
    ")\n",
    "NNUNET_FOLDS = (0,)\n",
    "\n",
    "if MODEL_OUT_PATH.exists():\n",
    "    shutil.rmtree(MODEL_OUT_PATH)\n",
    "if EVAL_OUT_PATH.exists():\n",
    "    shutil.rmtree(EVAL_OUT_PATH)\n",
    "\n",
    "os.environ[\"TQDM_DISABLE\"] = \"1\"\n",
    "\n",
    "\n",
    "def do_inference(cohort: str, do_refinement: bool):\n",
    "    for case_folder in tqdm(list(INPUT_PATH.iterdir())):\n",
    "        if not case_folder.is_dir():\n",
    "            continue\n",
    "\n",
    "        print(f\"Processing case: {case_folder}\")\n",
    "\n",
    "        job_id = str(uuid.uuid4())\n",
    "        output_path = MODEL_OUT_PATH / cohort / job_id / \"output\"\n",
    "\n",
    "        start_time = datetime.now().isoformat()\n",
    "        inference.run(\n",
    "            case_folder,\n",
    "            output_path,\n",
    "            sam2_checkpoint=SAM2_CHECKPOINT,\n",
    "            nnunet_model_folder=NN_UNET_MODEL_FOLDER,\n",
    "            nnunet_folds=NNUNET_FOLDS,\n",
    "            do_refinement=do_refinement,\n",
    "        )\n",
    "        end_time = datetime.now().isoformat()\n",
    "\n",
    "        json_file = output_path / \"prediction.json\"\n",
    "        json_file.parent.mkdir(parents=True, exist_ok=True)\n",
    "        json_file.touch(exist_ok=True)\n",
    "        with open(json_file, \"w\") as f:\n",
    "            f.write(\n",
    "                prediction_json(\n",
    "                    cohort,\n",
    "                    job_id,\n",
    "                    case_folder.name,\n",
    "                    start_time,\n",
    "                    end_time,\n",
    "                )\n",
    "            )\n",
    "\n",
    "\n",
    "do_inference(\"sam2-only\", do_refinement=False)\n"
   ]
  },
  {
   "cell_type": "code",
   "execution_count": 5,
   "id": "3723ec4f",
   "metadata": {},
   "outputs": [
    {
     "name": "stdout",
     "output_type": "stream",
     "text": [
      "Input Files:\n",
      "['tmp/predictions/baseline/predictions.json',\n",
      " 'tmp/predictions/baseline/3e885678-51a8-4677-8a9c-c5e5ec624439/output/prediction.json',\n",
      " 'tmp/predictions/baseline/3e885678-51a8-4677-8a9c-c5e5ec624439/output/images/mri-linac-series-targets/output.mha',\n",
      " 'tmp/predictions/baseline/69c5342d-3d94-4ede-b0ee-04687f59eb55/output/prediction.json',\n",
      " 'tmp/predictions/baseline/69c5342d-3d94-4ede-b0ee-04687f59eb55/output/images/mri-linac-series-targets/output.mha',\n",
      " 'tmp/predictions/baseline/264fe778-efc2-4ca5-b1e7-6c692b630623/output/prediction.json',\n",
      " 'tmp/predictions/baseline/264fe778-efc2-4ca5-b1e7-6c692b630623/output/images/mri-linac-series-targets/output.mha',\n",
      " 'tmp/predictions/baseline/272120b3-779e-4739-aabc-6fba33a47a11/output/prediction.json',\n",
      " 'tmp/predictions/baseline/272120b3-779e-4739-aabc-6fba33a47a11/output/images/mri-linac-series-targets/output.mha',\n",
      " 'tmp/predictions/baseline/40fbbd42-6b6d-4967-ae2e-f72f93119edb/output/prediction.json',\n",
      " 'tmp/predictions/baseline/40fbbd42-6b6d-4967-ae2e-f72f93119edb/output/images/mri-linac-series-targets/output.mha',\n",
      " 'tmp/predictions/baseline/c7082d40-6e52-4de7-b0f3-92ea40888039/output/prediction.json',\n",
      " 'tmp/predictions/baseline/c7082d40-6e52-4de7-b0f3-92ea40888039/output/images/mri-linac-series-targets/output.mha',\n",
      " 'tmp/predictions/baseline/0b1426f5-dbbf-4dfa-8adf-60cd829771f4/output/prediction.json',\n",
      " 'tmp/predictions/baseline/0b1426f5-dbbf-4dfa-8adf-60cd829771f4/output/images/mri-linac-series-targets/output.mha',\n",
      " 'tmp/predictions/baseline/13dbe44c-5261-408e-9345-3a9eeb1c3183/output/prediction.json',\n",
      " 'tmp/predictions/baseline/13dbe44c-5261-408e-9345-3a9eeb1c3183/output/images/mri-linac-series-targets/output.mha',\n",
      " 'tmp/predictions/baseline/ebd6fdb8-677e-4a88-976a-17d546c0cb90/output/prediction.json',\n",
      " 'tmp/predictions/baseline/ebd6fdb8-677e-4a88-976a-17d546c0cb90/output/images/mri-linac-series-targets/output.mha',\n",
      " 'tmp/predictions/baseline/54d96c21-30e7-45c3-bc58-86d7fc509480/output/prediction.json',\n",
      " 'tmp/predictions/baseline/54d96c21-30e7-45c3-bc58-86d7fc509480/output/images/mri-linac-series-targets/output.mha',\n",
      " 'tmp/predictions/baseline/4ed4dcd2-1266-418b-aa3f-ff0ba42deac4/output/prediction.json',\n",
      " 'tmp/predictions/baseline/4ed4dcd2-1266-418b-aa3f-ff0ba42deac4/output/images/mri-linac-series-targets/output.mha',\n",
      " 'tmp/predictions/baseline/264344ad-92bd-4fbb-8366-09037df037e0/output/prediction.json',\n",
      " 'tmp/predictions/baseline/264344ad-92bd-4fbb-8366-09037df037e0/output/images/mri-linac-series-targets/output.mha',\n",
      " 'tmp/predictions/baseline/b3da4912-6721-4811-85d9-0261ea8ae1a2/output/prediction.json',\n",
      " 'tmp/predictions/baseline/b3da4912-6721-4811-85d9-0261ea8ae1a2/output/images/mri-linac-series-targets/output.mha',\n",
      " 'tmp/predictions/baseline/7c2f2908-a34d-4603-96df-06a58966323b/output/prediction.json',\n",
      " 'tmp/predictions/baseline/7c2f2908-a34d-4603-96df-06a58966323b/output/images/mri-linac-series-targets/output.mha',\n",
      " 'tmp/predictions/baseline/fceb3e10-a491-45d0-bfc8-420e5395778d/output/prediction.json',\n",
      " 'tmp/predictions/baseline/fceb3e10-a491-45d0-bfc8-420e5395778d/output/images/mri-linac-series-targets/output.mha',\n",
      " 'tmp/predictions/baseline/72ecece8-b047-43d7-9ac3-499890de4da1/output/prediction.json',\n",
      " 'tmp/predictions/baseline/72ecece8-b047-43d7-9ac3-499890de4da1/output/images/mri-linac-series-targets/output.mha',\n",
      " 'tmp/predictions/baseline/c808dd31-b93c-45ca-a7da-6bd337a00a5e/output/prediction.json',\n",
      " 'tmp/predictions/baseline/c808dd31-b93c-45ca-a7da-6bd337a00a5e/output/images/mri-linac-series-targets/output.mha',\n",
      " 'tmp/predictions/baseline/51182b5c-ecae-4e99-bd77-04e8234b3a24/output/prediction.json',\n",
      " 'tmp/predictions/baseline/51182b5c-ecae-4e99-bd77-04e8234b3a24/output/images/mri-linac-series-targets/output.mha',\n",
      " 'tmp/predictions/baseline/868603af-a228-4277-bd4f-93a328696ecb/output/prediction.json',\n",
      " 'tmp/predictions/baseline/868603af-a228-4277-bd4f-93a328696ecb/output/images/mri-linac-series-targets/output.mha',\n",
      " 'tmp/predictions/baseline/2ba7956a-493d-4f3b-889c-1635210f0261/output/prediction.json',\n",
      " 'tmp/predictions/baseline/2ba7956a-493d-4f3b-889c-1635210f0261/output/images/mri-linac-series-targets/output.mha',\n",
      " 'tmp/predictions/baseline/3581db7a-3595-4559-a615-36905590def0/output/prediction.json',\n",
      " 'tmp/predictions/baseline/3581db7a-3595-4559-a615-36905590def0/output/images/mri-linac-series-targets/output.mha',\n",
      " 'tmp/predictions/baseline/31eb6f31-9618-4560-bb47-9b5e2c2efa1f/output/prediction.json',\n",
      " 'tmp/predictions/baseline/31eb6f31-9618-4560-bb47-9b5e2c2efa1f/output/images/mri-linac-series-targets/output.mha',\n",
      " 'tmp/predictions/baseline/570674d0-3f8d-40b9-a1af-13fda5211286/output/prediction.json',\n",
      " 'tmp/predictions/baseline/570674d0-3f8d-40b9-a1af-13fda5211286/output/images/mri-linac-series-targets/output.mha',\n",
      " 'tmp/predictions/baseline/7511efe8-141b-459b-8351-555f9cebc845/output/prediction.json',\n",
      " 'tmp/predictions/baseline/7511efe8-141b-459b-8351-555f9cebc845/output/images/mri-linac-series-targets/output.mha',\n",
      " 'tmp/predictions/baseline/9fa9ac6f-a3c7-4c71-85d5-f1d6d71bc7d1/output/prediction.json',\n",
      " 'tmp/predictions/baseline/9fa9ac6f-a3c7-4c71-85d5-f1d6d71bc7d1/output/images/mri-linac-series-targets/output.mha',\n",
      " 'tmp/predictions/baseline/0003f2fc-03f1-435f-98a1-5fa449204af2/output/prediction.json',\n",
      " 'tmp/predictions/baseline/0003f2fc-03f1-435f-98a1-5fa449204af2/output/images/mri-linac-series-targets/output.mha',\n",
      " 'tmp/predictions/baseline/f1092029-6be7-402a-9e54-f1685556571d/output/prediction.json',\n",
      " 'tmp/predictions/baseline/f1092029-6be7-402a-9e54-f1685556571d/output/images/mri-linac-series-targets/output.mha',\n",
      " 'tmp/predictions/baseline/97520ecd-2667-4bb9-a5f5-ba8631950966/output/prediction.json',\n",
      " 'tmp/predictions/baseline/97520ecd-2667-4bb9-a5f5-ba8631950966/output/images/mri-linac-series-targets/output.mha',\n",
      " 'tmp/predictions/baseline/6505fd28-6da6-452d-9d07-7342bcf380b0/output/prediction.json',\n",
      " 'tmp/predictions/baseline/6505fd28-6da6-452d-9d07-7342bcf380b0/output/images/mri-linac-series-targets/output.mha',\n",
      " 'tmp/predictions/baseline/603dd483-3021-433a-92f6-0ae634da76e2/output/prediction.json',\n",
      " 'tmp/predictions/baseline/603dd483-3021-433a-92f6-0ae634da76e2/output/images/mri-linac-series-targets/output.mha',\n",
      " 'tmp/predictions/baseline/6512634f-af22-40f3-bb5d-8c0964e7172b/output/prediction.json',\n",
      " 'tmp/predictions/baseline/6512634f-af22-40f3-bb5d-8c0964e7172b/output/images/mri-linac-series-targets/output.mha',\n",
      " 'tmp/predictions/baseline/fa49d421-58d6-4a32-ad8d-9cd37eb88398/output/prediction.json',\n",
      " 'tmp/predictions/baseline/fa49d421-58d6-4a32-ad8d-9cd37eb88398/output/images/mri-linac-series-targets/output.mha',\n",
      " 'tmp/predictions/baseline/e18e73a8-7564-4238-a64e-e37f0e5a7202/output/prediction.json',\n",
      " 'tmp/predictions/baseline/e18e73a8-7564-4238-a64e-e37f0e5a7202/output/images/mri-linac-series-targets/output.mha',\n",
      " 'tmp/predictions/baseline/0bfb17f0-8c34-450c-bdc1-f5d251baec34/output/prediction.json',\n",
      " 'tmp/predictions/baseline/0bfb17f0-8c34-450c-bdc1-f5d251baec34/output/images/mri-linac-series-targets/output.mha',\n",
      " 'tmp/predictions/baseline/e847adc6-dcd2-41a9-b6d3-d8fb9a3a6eb8/output/prediction.json',\n",
      " 'tmp/predictions/baseline/e847adc6-dcd2-41a9-b6d3-d8fb9a3a6eb8/output/images/mri-linac-series-targets/output.mha',\n",
      " 'tmp/predictions/baseline/bae47e33-7921-4fe5-baab-d49db84f1b76/output/prediction.json',\n",
      " 'tmp/predictions/baseline/bae47e33-7921-4fe5-baab-d49db84f1b76/output/images/mri-linac-series-targets/output.mha',\n",
      " 'tmp/predictions/baseline/4434b9fe-a8b2-43c2-a621-de8d160b4c9e/output/prediction.json',\n",
      " 'tmp/predictions/baseline/4434b9fe-a8b2-43c2-a621-de8d160b4c9e/output/images/mri-linac-series-targets/output.mha',\n",
      " 'tmp/predictions/baseline/7c6f68b9-058a-4528-ae53-240ef9488dba/output/prediction.json',\n",
      " 'tmp/predictions/baseline/7c6f68b9-058a-4528-ae53-240ef9488dba/output/images/mri-linac-series-targets/output.mha',\n",
      " 'tmp/predictions/baseline/89c1b349-cbd6-45fe-ac81-2e24be081a78/output/prediction.json',\n",
      " 'tmp/predictions/baseline/89c1b349-cbd6-45fe-ac81-2e24be081a78/output/images/mri-linac-series-targets/output.mha',\n",
      " 'tmp/predictions/baseline/a06b9993-40bf-4245-903a-b321f27a007b/output/prediction.json',\n",
      " 'tmp/predictions/baseline/a06b9993-40bf-4245-903a-b321f27a007b/output/images/mri-linac-series-targets/output.mha',\n",
      " 'tmp/predictions/baseline/4e0d0409-0f2f-4f9d-8bfa-16ca06d05f8a/output/prediction.json',\n",
      " 'tmp/predictions/baseline/4e0d0409-0f2f-4f9d-8bfa-16ca06d05f8a/output/images/mri-linac-series-targets/output.mha',\n",
      " 'tmp/predictions/baseline/db46ecbc-0713-4281-8f7b-32bd4fae66d7/output/prediction.json',\n",
      " 'tmp/predictions/baseline/db46ecbc-0713-4281-8f7b-32bd4fae66d7/output/images/mri-linac-series-targets/output.mha',\n",
      " 'tmp/predictions/baseline/e3bdb1c1-e1b0-4188-99f0-3e53565d24c5/output/prediction.json',\n",
      " 'tmp/predictions/baseline/e3bdb1c1-e1b0-4188-99f0-3e53565d24c5/output/images/mri-linac-series-targets/output.mha',\n",
      " 'tmp/predictions/baseline/186a91ec-46ad-4b3b-8daa-7c69cd61367b/output/prediction.json',\n",
      " 'tmp/predictions/baseline/186a91ec-46ad-4b3b-8daa-7c69cd61367b/output/images/mri-linac-series-targets/output.mha',\n",
      " 'tmp/predictions/baseline/29ce1ad4-33ce-4ccb-8d37-37e9f2f36c38/output/prediction.json',\n",
      " 'tmp/predictions/baseline/29ce1ad4-33ce-4ccb-8d37-37e9f2f36c38/output/images/mri-linac-series-targets/output.mha',\n",
      " 'tmp/predictions/baseline/891eaf0f-eff1-4c0f-ab85-69376957478f/output/prediction.json',\n",
      " 'tmp/predictions/baseline/891eaf0f-eff1-4c0f-ab85-69376957478f/output/images/mri-linac-series-targets/output.mha',\n",
      " 'tmp/predictions/baseline/cb0c3e8e-9117-4cbc-bae8-50a368504852/output/prediction.json',\n",
      " 'tmp/predictions/baseline/cb0c3e8e-9117-4cbc-bae8-50a368504852/output/images/mri-linac-series-targets/output.mha',\n",
      " 'tmp/predictions/baseline/1b7e9e65-0bcd-4e8f-a13d-1caf9e45b91f/output/prediction.json',\n",
      " 'tmp/predictions/baseline/1b7e9e65-0bcd-4e8f-a13d-1caf9e45b91f/output/images/mri-linac-series-targets/output.mha',\n",
      " 'tmp/predictions/baseline/b84f2f2b-e53c-4362-a6bc-b8ecab104d6c/output/prediction.json',\n",
      " 'tmp/predictions/baseline/b84f2f2b-e53c-4362-a6bc-b8ecab104d6c/output/images/mri-linac-series-targets/output.mha',\n",
      " 'tmp/predictions/baseline/e47663c9-d299-498d-aedc-467641f47044/output/prediction.json',\n",
      " 'tmp/predictions/baseline/e47663c9-d299-498d-aedc-467641f47044/output/images/mri-linac-series-targets/output.mha']\n",
      "\n",
      "jobjobjobjobjobjobjobjobjobjobjobjobjobjobjobjobjobjobjobjobjobjobjobjobjobjobjobjobjobjobjobjobjobjobjobjobjobjobjobjobjobjobjobjobjobjobjobjobjobjob                                     {'pk': '6512634f-af22-40f3-bb5d-8c0964e7172b', 'ground_truth_directory': '/rodata/mnradonc_dev/m299164/trackrad/datasets/trackrad2025/trackrad2025_labeled_training_data', 'input_directory': 'tmp/predictions/baseline', 'output_directory': 'tmp/output/baseline', 'inputs': [{'value': 8, 'interface': {'slug': 'frame-rate'}}, {'value': 1.5, 'interface': {'slug': 'magnetic-field-strength'}}, {'value': 'abdomen', 'interface': {'slug': 'scanned-region'}}, {'image': {'name': 'mri-linac-target.mha'}, 'interface': {'slug': 'mri-linac-target', 'relative_path': 'images/mri-linac-target'}}, {'image': {'name': 'B_003.mha'}, 'interface': {'slug': 'mri-linac-series', 'relative_path': 'images/mri-linacs'}}], 'status': 'Succeeded', 'outputs': [{'image': {'name': 'output.mha'}, 'interface': {'slug': 'mri-linac-series-targets', 'relative_path': 'images/mri-linac-series-targets'}}], 'started_at': '2025-08-11T15:53:55.526659', 'completed_at': '2025-08-11T15:54:02.888248'}  {'pk': '40fbbd42-6b6d-4967-ae2e-f72f93119edb', 'ground_truth_directory': '/rodata/mnradonc_dev/m299164/trackrad/datasets/trackrad2025/trackrad2025_labeled_training_data', 'input_directory': 'tmp/predictions/baseline', 'output_directory': 'tmp/output/baseline', 'inputs': [{'value': 8, 'interface': {'slug': 'frame-rate'}}, {'value': 1.5, 'interface': {'slug': 'magnetic-field-strength'}}, {'value': 'abdomen', 'interface': {'slug': 'scanned-region'}}, {'image': {'name': 'mri-linac-target.mha'}, 'interface': {'slug': 'mri-linac-target', 'relative_path': 'images/mri-linac-target'}}, {'image': {'name': 'A_022.mha'}, 'interface': {'slug': 'mri-linac-series', 'relative_path': 'images/mri-linacs'}}], 'status': 'Succeeded', 'outputs': [{'image': {'name': 'output.mha'}, 'interface': {'slug': 'mri-linac-series-targets', 'relative_path': 'images/mri-linac-series-targets'}}], 'started_at': '2025-08-11T15:54:16.855679', 'completed_at': '2025-08-11T15:54:24.156306'}{'pk': '7511efe8-141b-459b-8351-555f9cebc845', 'ground_truth_directory': '/rodata/mnradonc_dev/m299164/trackrad/datasets/trackrad2025/trackrad2025_labeled_training_data', 'input_directory': 'tmp/predictions/baseline', 'output_directory': 'tmp/output/baseline', 'inputs': [{'value': 8, 'interface': {'slug': 'frame-rate'}}, {'value': 1.5, 'interface': {'slug': 'magnetic-field-strength'}}, {'value': 'abdomen', 'interface': {'slug': 'scanned-region'}}, {'image': {'name': 'mri-linac-target.mha'}, 'interface': {'slug': 'mri-linac-target', 'relative_path': 'images/mri-linac-target'}}, {'image': {'name': 'C_009.mha'}, 'interface': {'slug': 'mri-linac-series', 'relative_path': 'images/mri-linacs'}}], 'status': 'Succeeded', 'outputs': [{'image': {'name': 'output.mha'}, 'interface': {'slug': 'mri-linac-series-targets', 'relative_path': 'images/mri-linac-series-targets'}}], 'started_at': '2025-08-11T15:55:10.372128', 'completed_at': '2025-08-11T15:55:14.752997'} {'pk': '2ba7956a-493d-4f3b-889c-1635210f0261', 'ground_truth_directory': '/rodata/mnradonc_dev/m299164/trackrad/datasets/trackrad2025/trackrad2025_labeled_training_data', 'input_directory': 'tmp/predictions/baseline', 'output_directory': 'tmp/output/baseline', 'inputs': [{'value': 8, 'interface': {'slug': 'frame-rate'}}, {'value': 1.5, 'interface': {'slug': 'magnetic-field-strength'}}, {'value': 'abdomen', 'interface': {'slug': 'scanned-region'}}, {'image': {'name': 'mri-linac-target.mha'}, 'interface': {'slug': 'mri-linac-target', 'relative_path': 'images/mri-linac-target'}}, {'image': {'name': 'B_010.mha'}, 'interface': {'slug': 'mri-linac-series', 'relative_path': 'images/mri-linacs'}}], 'status': 'Succeeded', 'outputs': [{'image': {'name': 'output.mha'}, 'interface': {'slug': 'mri-linac-series-targets', 'relative_path': 'images/mri-linac-series-targets'}}], 'started_at': '2025-08-11T15:59:11.847504', 'completed_at': '2025-08-11T15:59:18.938906'}{'pk': '603dd483-3021-433a-92f6-0ae634da76e2', 'ground_truth_directory': '/rodata/mnradonc_dev/m299164/trackrad/datasets/trackrad2025/trackrad2025_labeled_training_data', 'input_directory': 'tmp/predictions/baseline', 'output_directory': 'tmp/output/baseline', 'inputs': [{'value': 8, 'interface': {'slug': 'frame-rate'}}, {'value': 1.5, 'interface': {'slug': 'magnetic-field-strength'}}, {'value': 'abdomen', 'interface': {'slug': 'scanned-region'}}, {'image': {'name': 'mri-linac-target.mha'}, 'interface': {'slug': 'mri-linac-target', 'relative_path': 'images/mri-linac-target'}}, {'image': {'name': 'B_023.mha'}, 'interface': {'slug': 'mri-linac-series', 'relative_path': 'images/mri-linacs'}}], 'status': 'Succeeded', 'outputs': [{'image': {'name': 'output.mha'}, 'interface': {'slug': 'mri-linac-series-targets', 'relative_path': 'images/mri-linac-series-targets'}}], 'started_at': '2025-08-11T15:53:41.316595', 'completed_at': '2025-08-11T15:53:49.033025'}{'pk': '3581db7a-3595-4559-a615-36905590def0', 'ground_truth_directory': '/rodata/mnradonc_dev/m299164/trackrad/datasets/trackrad2025/trackrad2025_labeled_training_data', 'input_directory': 'tmp/predictions/baseline', 'output_directory': 'tmp/output/baseline', 'inputs': [{'value': 8, 'interface': {'slug': 'frame-rate'}}, {'value': 1.5, 'interface': {'slug': 'magnetic-field-strength'}}, {'value': 'abdomen', 'interface': {'slug': 'scanned-region'}}, {'image': {'name': 'mri-linac-target.mha'}, 'interface': {'slug': 'mri-linac-target', 'relative_path': 'images/mri-linac-target'}}, {'image': {'name': 'A_029.mha'}, 'interface': {'slug': 'mri-linac-series', 'relative_path': 'images/mri-linacs'}}], 'status': 'Succeeded', 'outputs': [{'image': {'name': 'output.mha'}, 'interface': {'slug': 'mri-linac-series-targets', 'relative_path': 'images/mri-linac-series-targets'}}], 'started_at': '2025-08-11T15:58:03.844863', 'completed_at': '2025-08-11T15:58:10.920695'}  {'pk': '69c5342d-3d94-4ede-b0ee-04687f59eb55', 'ground_truth_directory': '/rodata/mnradonc_dev/m299164/trackrad/datasets/trackrad2025/trackrad2025_labeled_training_data', 'input_directory': 'tmp/predictions/baseline', 'output_directory': 'tmp/output/baseline', 'inputs': [{'value': 8, 'interface': {'slug': 'frame-rate'}}, {'value': 1.5, 'interface': {'slug': 'magnetic-field-strength'}}, {'value': 'abdomen', 'interface': {'slug': 'scanned-region'}}, {'image': {'name': 'mri-linac-target.mha'}, 'interface': {'slug': 'mri-linac-target', 'relative_path': 'images/mri-linac-target'}}, {'image': {'name': 'A_007.mha'}, 'interface': {'slug': 'mri-linac-series', 'relative_path': 'images/mri-linacs'}}], 'status': 'Succeeded', 'outputs': [{'image': {'name': 'output.mha'}, 'interface': {'slug': 'mri-linac-series-targets', 'relative_path': 'images/mri-linac-series-targets'}}], 'started_at': '2025-08-11T15:55:14.757156', 'completed_at': '2025-08-11T15:55:25.318917'}{'pk': 'b3da4912-6721-4811-85d9-0261ea8ae1a2', 'ground_truth_directory': '/rodata/mnradonc_dev/m299164/trackrad/datasets/trackrad2025/trackrad2025_labeled_training_data', 'input_directory': 'tmp/predictions/baseline', 'output_directory': 'tmp/output/baseline', 'inputs': [{'value': 8, 'interface': {'slug': 'frame-rate'}}, {'value': 1.5, 'interface': {'slug': 'magnetic-field-strength'}}, {'value': 'abdomen', 'interface': {'slug': 'scanned-region'}}, {'image': {'name': 'mri-linac-target.mha'}, 'interface': {'slug': 'mri-linac-target', 'relative_path': 'images/mri-linac-target'}}, {'image': {'name': 'A_026.mha'}, 'interface': {'slug': 'mri-linac-series', 'relative_path': 'images/mri-linacs'}}], 'status': 'Succeeded', 'outputs': [{'image': {'name': 'output.mha'}, 'interface': {'slug': 'mri-linac-series-targets', 'relative_path': 'images/mri-linac-series-targets'}}], 'started_at': '2025-08-11T15:53:05.063479', 'completed_at': '2025-08-11T15:53:15.272090'}    {'pk': '868603af-a228-4277-bd4f-93a328696ecb', 'ground_truth_directory': '/rodata/mnradonc_dev/m299164/trackrad/datasets/trackrad2025/trackrad2025_labeled_training_data', 'input_directory': 'tmp/predictions/baseline', 'output_directory': 'tmp/output/baseline', 'inputs': [{'value': 8, 'interface': {'slug': 'frame-rate'}}, {'value': 1.5, 'interface': {'slug': 'magnetic-field-strength'}}, {'value': 'abdomen', 'interface': {'slug': 'scanned-region'}}, {'image': {'name': 'mri-linac-target.mha'}, 'interface': {'slug': 'mri-linac-target', 'relative_path': 'images/mri-linac-target'}}, {'image': {'name': 'C_012.mha'}, 'interface': {'slug': 'mri-linac-series', 'relative_path': 'images/mri-linacs'}}], 'status': 'Succeeded', 'outputs': [{'image': {'name': 'output.mha'}, 'interface': {'slug': 'mri-linac-series-targets', 'relative_path': 'images/mri-linac-series-targets'}}], 'started_at': '2025-08-11T15:58:39.041823', 'completed_at': '2025-08-11T15:58:43.652479'}{'pk': '54d96c21-30e7-45c3-bc58-86d7fc509480', 'ground_truth_directory': '/rodata/mnradonc_dev/m299164/trackrad/datasets/trackrad2025/trackrad2025_labeled_training_data', 'input_directory': 'tmp/predictions/baseline', 'output_directory': 'tmp/output/baseline', 'inputs': [{'value': 8, 'interface': {'slug': 'frame-rate'}}, {'value': 1.5, 'interface': {'slug': 'magnetic-field-strength'}}, {'value': 'abdomen', 'interface': {'slug': 'scanned-region'}}, {'image': {'name': 'mri-linac-target.mha'}, 'interface': {'slug': 'mri-linac-target', 'relative_path': 'images/mri-linac-target'}}, {'image': {'name': 'B_002.mha'}, 'interface': {'slug': 'mri-linac-series', 'relative_path': 'images/mri-linacs'}}], 'status': 'Succeeded', 'outputs': [{'image': {'name': 'output.mha'}, 'interface': {'slug': 'mri-linac-series-targets', 'relative_path': 'images/mri-linac-series-targets'}}], 'started_at': '2025-08-11T15:55:42.257591', 'completed_at': '2025-08-11T15:55:50.673814'}{'pk': '570674d0-3f8d-40b9-a1af-13fda5211286', 'ground_truth_directory': '/rodata/mnradonc_dev/m299164/trackrad/datasets/trackrad2025/trackrad2025_labeled_training_data', 'input_directory': 'tmp/predictions/baseline', 'output_directory': 'tmp/output/baseline', 'inputs': [{'value': 8, 'interface': {'slug': 'frame-rate'}}, {'value': 1.5, 'interface': {'slug': 'magnetic-field-strength'}}, {'value': 'abdomen', 'interface': {'slug': 'scanned-region'}}, {'image': {'name': 'mri-linac-target.mha'}, 'interface': {'slug': 'mri-linac-target', 'relative_path': 'images/mri-linac-target'}}, {'image': {'name': 'A_024.mha'}, 'interface': {'slug': 'mri-linac-series', 'relative_path': 'images/mri-linacs'}}], 'status': 'Succeeded', 'outputs': [{'image': {'name': 'output.mha'}, 'interface': {'slug': 'mri-linac-series-targets', 'relative_path': 'images/mri-linac-series-targets'}}], 'started_at': '2025-08-11T15:57:22.505866', 'completed_at': '2025-08-11T15:57:29.993340'}{'pk': '72ecece8-b047-43d7-9ac3-499890de4da1', 'ground_truth_directory': '/rodata/mnradonc_dev/m299164/trackrad/datasets/trackrad2025/trackrad2025_labeled_training_data', 'input_directory': 'tmp/predictions/baseline', 'output_directory': 'tmp/output/baseline', 'inputs': [{'value': 8, 'interface': {'slug': 'frame-rate'}}, {'value': 1.5, 'interface': {'slug': 'magnetic-field-strength'}}, {'value': 'abdomen', 'interface': {'slug': 'scanned-region'}}, {'image': {'name': 'mri-linac-target.mha'}, 'interface': {'slug': 'mri-linac-target', 'relative_path': 'images/mri-linac-target'}}, {'image': {'name': 'B_026.mha'}, 'interface': {'slug': 'mri-linac-series', 'relative_path': 'images/mri-linacs'}}], 'status': 'Succeeded', 'outputs': [{'image': {'name': 'output.mha'}, 'interface': {'slug': 'mri-linac-series-targets', 'relative_path': 'images/mri-linac-series-targets'}}], 'started_at': '2025-08-11T15:58:43.656079', 'completed_at': '2025-08-11T15:58:51.199795'}{'pk': 'e847adc6-dcd2-41a9-b6d3-d8fb9a3a6eb8', 'ground_truth_directory': '/rodata/mnradonc_dev/m299164/trackrad/datasets/trackrad2025/trackrad2025_labeled_training_data', 'input_directory': 'tmp/predictions/baseline', 'output_directory': 'tmp/output/baseline', 'inputs': [{'value': 8, 'interface': {'slug': 'frame-rate'}}, {'value': 1.5, 'interface': {'slug': 'magnetic-field-strength'}}, {'value': 'abdomen', 'interface': {'slug': 'scanned-region'}}, {'image': {'name': 'mri-linac-target.mha'}, 'interface': {'slug': 'mri-linac-target', 'relative_path': 'images/mri-linac-target'}}, {'image': {'name': 'B_025.mha'}, 'interface': {'slug': 'mri-linac-series', 'relative_path': 'images/mri-linacs'}}], 'status': 'Succeeded', 'outputs': [{'image': {'name': 'output.mha'}, 'interface': {'slug': 'mri-linac-series-targets', 'relative_path': 'images/mri-linac-series-targets'}}], 'started_at': '2025-08-11T15:57:07.446493', 'completed_at': '2025-08-11T15:57:15.019485'} {'pk': '31eb6f31-9618-4560-bb47-9b5e2c2efa1f', 'ground_truth_directory': '/rodata/mnradonc_dev/m299164/trackrad/datasets/trackrad2025/trackrad2025_labeled_training_data', 'input_directory': 'tmp/predictions/baseline', 'output_directory': 'tmp/output/baseline', 'inputs': [{'value': 8, 'interface': {'slug': 'frame-rate'}}, {'value': 1.5, 'interface': {'slug': 'magnetic-field-strength'}}, {'value': 'abdomen', 'interface': {'slug': 'scanned-region'}}, {'image': {'name': 'mri-linac-target.mha'}, 'interface': {'slug': 'mri-linac-target', 'relative_path': 'images/mri-linac-target'}}, {'image': {'name': 'A_025.mha'}, 'interface': {'slug': 'mri-linac-series', 'relative_path': 'images/mri-linacs'}}], 'status': 'Succeeded', 'outputs': [{'image': {'name': 'output.mha'}, 'interface': {'slug': 'mri-linac-series-targets', 'relative_path': 'images/mri-linac-series-targets'}}], 'started_at': '2025-08-11T15:57:56.372224', 'completed_at': '2025-08-11T15:58:03.840151'}  {'pk': '264fe778-efc2-4ca5-b1e7-6c692b630623', 'ground_truth_directory': '/rodata/mnradonc_dev/m299164/trackrad/datasets/trackrad2025/trackrad2025_labeled_training_data', 'input_directory': 'tmp/predictions/baseline', 'output_directory': 'tmp/output/baseline', 'inputs': [{'value': 8, 'interface': {'slug': 'frame-rate'}}, {'value': 1.5, 'interface': {'slug': 'magnetic-field-strength'}}, {'value': 'abdomen', 'interface': {'slug': 'scanned-region'}}, {'image': {'name': 'mri-linac-target.mha'}, 'interface': {'slug': 'mri-linac-target', 'relative_path': 'images/mri-linac-target'}}, {'image': {'name': 'A_010.mha'}, 'interface': {'slug': 'mri-linac-series', 'relative_path': 'images/mri-linacs'}}], 'status': 'Succeeded', 'outputs': [{'image': {'name': 'output.mha'}, 'interface': {'slug': 'mri-linac-series-targets', 'relative_path': 'images/mri-linac-series-targets'}}], 'started_at': '2025-08-11T15:53:15.275423', 'completed_at': '2025-08-11T15:53:30.437719'}{'pk': '0bfb17f0-8c34-450c-bdc1-f5d251baec34', 'ground_truth_directory': '/rodata/mnradonc_dev/m299164/trackrad/datasets/trackrad2025/trackrad2025_labeled_training_data', 'input_directory': 'tmp/predictions/baseline', 'output_directory': 'tmp/output/baseline', 'inputs': [{'value': 8, 'interface': {'slug': 'frame-rate'}}, {'value': 1.5, 'interface': {'slug': 'magnetic-field-strength'}}, {'value': 'abdomen', 'interface': {'slug': 'scanned-region'}}, {'image': {'name': 'mri-linac-target.mha'}, 'interface': {'slug': 'mri-linac-target', 'relative_path': 'images/mri-linac-target'}}, {'image': {'name': 'A_001.mha'}, 'interface': {'slug': 'mri-linac-series', 'relative_path': 'images/mri-linacs'}}], 'status': 'Succeeded', 'outputs': [{'image': {'name': 'output.mha'}, 'interface': {'slug': 'mri-linac-series-targets', 'relative_path': 'images/mri-linac-series-targets'}}], 'started_at': '2025-08-11T15:56:28.808406', 'completed_at': '2025-08-11T15:56:36.252603'} {'pk': '97520ecd-2667-4bb9-a5f5-ba8631950966', 'ground_truth_directory': '/rodata/mnradonc_dev/m299164/trackrad/datasets/trackrad2025/trackrad2025_labeled_training_data', 'input_directory': 'tmp/predictions/baseline', 'output_directory': 'tmp/output/baseline', 'inputs': [{'value': 8, 'interface': {'slug': 'frame-rate'}}, {'value': 1.5, 'interface': {'slug': 'magnetic-field-strength'}}, {'value': 'abdomen', 'interface': {'slug': 'scanned-region'}}, {'image': {'name': 'mri-linac-target.mha'}, 'interface': {'slug': 'mri-linac-target', 'relative_path': 'images/mri-linac-target'}}, {'image': {'name': 'A_021.mha'}, 'interface': {'slug': 'mri-linac-series', 'relative_path': 'images/mri-linacs'}}], 'status': 'Succeeded', 'outputs': [{'image': {'name': 'output.mha'}, 'interface': {'slug': 'mri-linac-series-targets', 'relative_path': 'images/mri-linac-series-targets'}}], 'started_at': '2025-08-11T15:56:14.024525', 'completed_at': '2025-08-11T15:56:21.927980'}{'pk': 'c7082d40-6e52-4de7-b0f3-92ea40888039', 'ground_truth_directory': '/rodata/mnradonc_dev/m299164/trackrad/datasets/trackrad2025/trackrad2025_labeled_training_data', 'input_directory': 'tmp/predictions/baseline', 'output_directory': 'tmp/output/baseline', 'inputs': [{'value': 8, 'interface': {'slug': 'frame-rate'}}, {'value': 1.5, 'interface': {'slug': 'magnetic-field-strength'}}, {'value': 'abdomen', 'interface': {'slug': 'scanned-region'}}, {'image': {'name': 'mri-linac-target.mha'}, 'interface': {'slug': 'mri-linac-target', 'relative_path': 'images/mri-linac-target'}}, {'image': {'name': 'A_012.mha'}, 'interface': {'slug': 'mri-linac-series', 'relative_path': 'images/mri-linacs'}}], 'status': 'Succeeded', 'outputs': [{'image': {'name': 'output.mha'}, 'interface': {'slug': 'mri-linac-series-targets', 'relative_path': 'images/mri-linac-series-targets'}}], 'started_at': '2025-08-11T15:56:36.257164', 'completed_at': '2025-08-11T15:56:43.680445'}{'pk': 'f1092029-6be7-402a-9e54-f1685556571d', 'ground_truth_directory': '/rodata/mnradonc_dev/m299164/trackrad/datasets/trackrad2025/trackrad2025_labeled_training_data', 'input_directory': 'tmp/predictions/baseline', 'output_directory': 'tmp/output/baseline', 'inputs': [{'value': 8, 'interface': {'slug': 'frame-rate'}}, {'value': 1.5, 'interface': {'slug': 'magnetic-field-strength'}}, {'value': 'abdomen', 'interface': {'slug': 'scanned-region'}}, {'image': {'name': 'mri-linac-target.mha'}, 'interface': {'slug': 'mri-linac-target', 'relative_path': 'images/mri-linac-target'}}, {'image': {'name': 'C_016.mha'}, 'interface': {'slug': 'mri-linac-series', 'relative_path': 'images/mri-linacs'}}], 'status': 'Succeeded', 'outputs': [{'image': {'name': 'output.mha'}, 'interface': {'slug': 'mri-linac-series-targets', 'relative_path': 'images/mri-linac-series-targets'}}], 'started_at': '2025-08-11T15:54:07.585991', 'completed_at': '2025-08-11T15:54:11.866564'}{'pk': '3e885678-51a8-4677-8a9c-c5e5ec624439', 'ground_truth_directory': '/rodata/mnradonc_dev/m299164/trackrad/datasets/trackrad2025/trackrad2025_labeled_training_data', 'input_directory': 'tmp/predictions/baseline', 'output_directory': 'tmp/output/baseline', 'inputs': [{'value': 8, 'interface': {'slug': 'frame-rate'}}, {'value': 1.5, 'interface': {'slug': 'magnetic-field-strength'}}, {'value': 'abdomen', 'interface': {'slug': 'scanned-region'}}, {'image': {'name': 'mri-linac-target.mha'}, 'interface': {'slug': 'mri-linac-target', 'relative_path': 'images/mri-linac-target'}}, {'image': {'name': 'A_028.mha'}, 'interface': {'slug': 'mri-linac-series', 'relative_path': 'images/mri-linacs'}}], 'status': 'Succeeded', 'outputs': [{'image': {'name': 'output.mha'}, 'interface': {'slug': 'mri-linac-series-targets', 'relative_path': 'images/mri-linac-series-targets'}}], 'started_at': '2025-08-11T15:55:50.678241', 'completed_at': '2025-08-11T15:55:58.067120'}{'pk': '264344ad-92bd-4fbb-8366-09037df037e0', 'ground_truth_directory': '/rodata/mnradonc_dev/m299164/trackrad/datasets/trackrad2025/trackrad2025_labeled_training_data', 'input_directory': 'tmp/predictions/baseline', 'output_directory': 'tmp/output/baseline', 'inputs': [{'value': 8, 'interface': {'slug': 'frame-rate'}}, {'value': 1.5, 'interface': {'slug': 'magnetic-field-strength'}}, {'value': 'abdomen', 'interface': {'slug': 'scanned-region'}}, {'image': {'name': 'mri-linac-target.mha'}, 'interface': {'slug': 'mri-linac-target', 'relative_path': 'images/mri-linac-target'}}, {'image': {'name': 'A_005.mha'}, 'interface': {'slug': 'mri-linac-series', 'relative_path': 'images/mri-linacs'}}], 'status': 'Succeeded', 'outputs': [{'image': {'name': 'output.mha'}, 'interface': {'slug': 'mri-linac-series-targets', 'relative_path': 'images/mri-linac-series-targets'}}], 'started_at': '2025-08-11T15:58:51.203216', 'completed_at': '2025-08-11T15:59:07.406339'}{'pk': '6505fd28-6da6-452d-9d07-7342bcf380b0', 'ground_truth_directory': '/rodata/mnradonc_dev/m299164/trackrad/datasets/trackrad2025/trackrad2025_labeled_training_data', 'input_directory': 'tmp/predictions/baseline', 'output_directory': 'tmp/output/baseline', 'inputs': [{'value': 8, 'interface': {'slug': 'frame-rate'}}, {'value': 1.5, 'interface': {'slug': 'magnetic-field-strength'}}, {'value': 'abdomen', 'interface': {'slug': 'scanned-region'}}, {'image': {'name': 'mri-linac-target.mha'}, 'interface': {'slug': 'mri-linac-target', 'relative_path': 'images/mri-linac-target'}}, {'image': {'name': 'C_005.mha'}, 'interface': {'slug': 'mri-linac-series', 'relative_path': 'images/mri-linacs'}}], 'status': 'Succeeded', 'outputs': [{'image': {'name': 'output.mha'}, 'interface': {'slug': 'mri-linac-series-targets', 'relative_path': 'images/mri-linac-series-targets'}}], 'started_at': '2025-08-11T15:55:37.984149', 'completed_at': '2025-08-11T15:55:42.253718'}{'pk': 'ebd6fdb8-677e-4a88-976a-17d546c0cb90', 'ground_truth_directory': '/rodata/mnradonc_dev/m299164/trackrad/datasets/trackrad2025/trackrad2025_labeled_training_data', 'input_directory': 'tmp/predictions/baseline', 'output_directory': 'tmp/output/baseline', 'inputs': [{'value': 8, 'interface': {'slug': 'frame-rate'}}, {'value': 1.5, 'interface': {'slug': 'magnetic-field-strength'}}, {'value': 'abdomen', 'interface': {'slug': 'scanned-region'}}, {'image': {'name': 'mri-linac-target.mha'}, 'interface': {'slug': 'mri-linac-target', 'relative_path': 'images/mri-linac-target'}}, {'image': {'name': 'A_011.mha'}, 'interface': {'slug': 'mri-linac-series', 'relative_path': 'images/mri-linacs'}}], 'status': 'Succeeded', 'outputs': [{'image': {'name': 'output.mha'}, 'interface': {'slug': 'mri-linac-series-targets', 'relative_path': 'images/mri-linac-series-targets'}}], 'started_at': '2025-08-11T15:55:58.071865', 'completed_at': '2025-08-11T15:56:06.617358'}{'pk': 'c808dd31-b93c-45ca-a7da-6bd337a00a5e', 'ground_truth_directory': '/rodata/mnradonc_dev/m299164/trackrad/datasets/trackrad2025/trackrad2025_labeled_training_data', 'input_directory': 'tmp/predictions/baseline', 'output_directory': 'tmp/output/baseline', 'inputs': [{'value': 8, 'interface': {'slug': 'frame-rate'}}, {'value': 1.5, 'interface': {'slug': 'magnetic-field-strength'}}, {'value': 'abdomen', 'interface': {'slug': 'scanned-region'}}, {'image': {'name': 'mri-linac-target.mha'}, 'interface': {'slug': 'mri-linac-target', 'relative_path': 'images/mri-linac-target'}}, {'image': {'name': 'C_010.mha'}, 'interface': {'slug': 'mri-linac-series', 'relative_path': 'images/mri-linacs'}}], 'status': 'Succeeded', 'outputs': [{'image': {'name': 'output.mha'}, 'interface': {'slug': 'mri-linac-series-targets', 'relative_path': 'images/mri-linac-series-targets'}}], 'started_at': '2025-08-11T15:54:43.758864', 'completed_at': '2025-08-11T15:54:48.219973'}{'pk': 'fceb3e10-a491-45d0-bfc8-420e5395778d', 'ground_truth_directory': '/rodata/mnradonc_dev/m299164/trackrad/datasets/trackrad2025/trackrad2025_labeled_training_data', 'input_directory': 'tmp/predictions/baseline', 'output_directory': 'tmp/output/baseline', 'inputs': [{'value': 8, 'interface': {'slug': 'frame-rate'}}, {'value': 1.5, 'interface': {'slug': 'magnetic-field-strength'}}, {'value': 'abdomen', 'interface': {'slug': 'scanned-region'}}, {'image': {'name': 'mri-linac-target.mha'}, 'interface': {'slug': 'mri-linac-target', 'relative_path': 'images/mri-linac-target'}}, {'image': {'name': 'B_008.mha'}, 'interface': {'slug': 'mri-linac-series', 'relative_path': 'images/mri-linacs'}}], 'status': 'Succeeded', 'outputs': [{'image': {'name': 'output.mha'}, 'interface': {'slug': 'mri-linac-series-targets', 'relative_path': 'images/mri-linac-series-targets'}}], 'started_at': '2025-08-11T15:55:25.322883', 'completed_at': '2025-08-11T15:55:32.158855'}{'pk': '13dbe44c-5261-408e-9345-3a9eeb1c3183', 'ground_truth_directory': '/rodata/mnradonc_dev/m299164/trackrad/datasets/trackrad2025/trackrad2025_labeled_training_data', 'input_directory': 'tmp/predictions/baseline', 'output_directory': 'tmp/output/baseline', 'inputs': [{'value': 8, 'interface': {'slug': 'frame-rate'}}, {'value': 1.5, 'interface': {'slug': 'magnetic-field-strength'}}, {'value': 'abdomen', 'interface': {'slug': 'scanned-region'}}, {'image': {'name': 'mri-linac-target.mha'}, 'interface': {'slug': 'mri-linac-target', 'relative_path': 'images/mri-linac-target'}}, {'image': {'name': 'A_004.mha'}, 'interface': {'slug': 'mri-linac-series', 'relative_path': 'images/mri-linacs'}}], 'status': 'Succeeded', 'outputs': [{'image': {'name': 'output.mha'}, 'interface': {'slug': 'mri-linac-series-targets', 'relative_path': 'images/mri-linac-series-targets'}}], 'started_at': '2025-08-11T15:57:34.406401', 'completed_at': '2025-08-11T15:57:41.532221'}{'pk': '51182b5c-ecae-4e99-bd77-04e8234b3a24', 'ground_truth_directory': '/rodata/mnradonc_dev/m299164/trackrad/datasets/trackrad2025/trackrad2025_labeled_training_data', 'input_directory': 'tmp/predictions/baseline', 'output_directory': 'tmp/output/baseline', 'inputs': [{'value': 8, 'interface': {'slug': 'frame-rate'}}, {'value': 1.5, 'interface': {'slug': 'magnetic-field-strength'}}, {'value': 'abdomen', 'interface': {'slug': 'scanned-region'}}, {'image': {'name': 'mri-linac-target.mha'}, 'interface': {'slug': 'mri-linac-target', 'relative_path': 'images/mri-linac-target'}}, {'image': {'name': 'B_006.mha'}, 'interface': {'slug': 'mri-linac-series', 'relative_path': 'images/mri-linacs'}}], 'status': 'Succeeded', 'outputs': [{'image': {'name': 'output.mha'}, 'interface': {'slug': 'mri-linac-series-targets', 'relative_path': 'images/mri-linac-series-targets'}}], 'started_at': '2025-08-11T15:59:18.943042', 'completed_at': '2025-08-11T15:59:26.233149'}{'pk': 'bae47e33-7921-4fe5-baab-d49db84f1b76', 'ground_truth_directory': '/rodata/mnradonc_dev/m299164/trackrad/datasets/trackrad2025/trackrad2025_labeled_training_data', 'input_directory': 'tmp/predictions/baseline', 'output_directory': 'tmp/output/baseline', 'inputs': [{'value': 8, 'interface': {'slug': 'frame-rate'}}, {'value': 1.5, 'interface': {'slug': 'magnetic-field-strength'}}, {'value': 'abdomen', 'interface': {'slug': 'scanned-region'}}, {'image': {'name': 'mri-linac-target.mha'}, 'interface': {'slug': 'mri-linac-target', 'relative_path': 'images/mri-linac-target'}}, {'image': {'name': 'B_019.mha'}, 'interface': {'slug': 'mri-linac-series', 'relative_path': 'images/mri-linacs'}}], 'status': 'Succeeded', 'outputs': [{'image': {'name': 'output.mha'}, 'interface': {'slug': 'mri-linac-series-targets', 'relative_path': 'images/mri-linac-series-targets'}}], 'started_at': '2025-08-11T15:56:43.685326', 'completed_at': '2025-08-11T15:56:49.836783'}{'pk': '272120b3-779e-4739-aabc-6fba33a47a11', 'ground_truth_directory': '/rodata/mnradonc_dev/m299164/trackrad/datasets/trackrad2025/trackrad2025_labeled_training_data', 'input_directory': 'tmp/predictions/baseline', 'output_directory': 'tmp/output/baseline', 'inputs': [{'value': 8, 'interface': {'slug': 'frame-rate'}}, {'value': 1.5, 'interface': {'slug': 'magnetic-field-strength'}}, {'value': 'abdomen', 'interface': {'slug': 'scanned-region'}}, {'image': {'name': 'mri-linac-target.mha'}, 'interface': {'slug': 'mri-linac-target', 'relative_path': 'images/mri-linac-target'}}, {'image': {'name': 'B_021.mha'}, 'interface': {'slug': 'mri-linac-series', 'relative_path': 'images/mri-linacs'}}], 'status': 'Succeeded', 'outputs': [{'image': {'name': 'output.mha'}, 'interface': {'slug': 'mri-linac-series-targets', 'relative_path': 'images/mri-linac-series-targets'}}], 'started_at': '2025-08-11T15:57:48.941585', 'completed_at': '2025-08-11T15:57:56.368271'}{'pk': '7c2f2908-a34d-4603-96df-06a58966323b', 'ground_truth_directory': '/rodata/mnradonc_dev/m299164/trackrad/datasets/trackrad2025/trackrad2025_labeled_training_data', 'input_directory': 'tmp/predictions/baseline', 'output_directory': 'tmp/output/baseline', 'inputs': [{'value': 8, 'interface': {'slug': 'frame-rate'}}, {'value': 1.5, 'interface': {'slug': 'magnetic-field-strength'}}, {'value': 'abdomen', 'interface': {'slug': 'scanned-region'}}, {'image': {'name': 'mri-linac-target.mha'}, 'interface': {'slug': 'mri-linac-target', 'relative_path': 'images/mri-linac-target'}}, {'image': {'name': 'A_006.mha'}, 'interface': {'slug': 'mri-linac-series', 'relative_path': 'images/mri-linacs'}}], 'status': 'Succeeded', 'outputs': [{'image': {'name': 'output.mha'}, 'interface': {'slug': 'mri-linac-series-targets', 'relative_path': 'images/mri-linac-series-targets'}}], 'started_at': '2025-08-11T15:56:49.840841', 'completed_at': '2025-08-11T15:57:03.108496'}{'pk': '0003f2fc-03f1-435f-98a1-5fa449204af2', 'ground_truth_directory': '/rodata/mnradonc_dev/m299164/trackrad/datasets/trackrad2025/trackrad2025_labeled_training_data', 'input_directory': 'tmp/predictions/baseline', 'output_directory': 'tmp/output/baseline', 'inputs': [{'value': 8, 'interface': {'slug': 'frame-rate'}}, {'value': 1.5, 'interface': {'slug': 'magnetic-field-strength'}}, {'value': 'abdomen', 'interface': {'slug': 'scanned-region'}}, {'image': {'name': 'mri-linac-target.mha'}, 'interface': {'slug': 'mri-linac-target', 'relative_path': 'images/mri-linac-target'}}, {'image': {'name': 'C_011.mha'}, 'interface': {'slug': 'mri-linac-series', 'relative_path': 'images/mri-linacs'}}], 'status': 'Succeeded', 'outputs': [{'image': {'name': 'output.mha'}, 'interface': {'slug': 'mri-linac-series-targets', 'relative_path': 'images/mri-linac-series-targets'}}], 'started_at': '2025-08-11T15:59:07.410259', 'completed_at': '2025-08-11T15:59:11.844174'}{'pk': '0b1426f5-dbbf-4dfa-8adf-60cd829771f4', 'ground_truth_directory': '/rodata/mnradonc_dev/m299164/trackrad/datasets/trackrad2025/trackrad2025_labeled_training_data', 'input_directory': 'tmp/predictions/baseline', 'output_directory': 'tmp/output/baseline', 'inputs': [{'value': 8, 'interface': {'slug': 'frame-rate'}}, {'value': 1.5, 'interface': {'slug': 'magnetic-field-strength'}}, {'value': 'abdomen', 'interface': {'slug': 'scanned-region'}}, {'image': {'name': 'mri-linac-target.mha'}, 'interface': {'slug': 'mri-linac-target', 'relative_path': 'images/mri-linac-target'}}, {'image': {'name': 'B_017.mha'}, 'interface': {'slug': 'mri-linac-series', 'relative_path': 'images/mri-linacs'}}], 'status': 'Succeeded', 'outputs': [{'image': {'name': 'output.mha'}, 'interface': {'slug': 'mri-linac-series-targets', 'relative_path': 'images/mri-linac-series-targets'}}], 'started_at': '2025-08-11T15:55:32.162935', 'completed_at': '2025-08-11T15:55:37.980137'}{'pk': '4e0d0409-0f2f-4f9d-8bfa-16ca06d05f8a', 'ground_truth_directory': '/rodata/mnradonc_dev/m299164/trackrad/datasets/trackrad2025/trackrad2025_labeled_training_data', 'input_directory': 'tmp/predictions/baseline', 'output_directory': 'tmp/output/baseline', 'inputs': [{'value': 8, 'interface': {'slug': 'frame-rate'}}, {'value': 1.5, 'interface': {'slug': 'magnetic-field-strength'}}, {'value': 'abdomen', 'interface': {'slug': 'scanned-region'}}, {'image': {'name': 'mri-linac-target.mha'}, 'interface': {'slug': 'mri-linac-target', 'relative_path': 'images/mri-linac-target'}}, {'image': {'name': 'C_001.mha'}, 'interface': {'slug': 'mri-linac-series', 'relative_path': 'images/mri-linacs'}}], 'status': 'Succeeded', 'outputs': [{'image': {'name': 'output.mha'}, 'interface': {'slug': 'mri-linac-series-targets', 'relative_path': 'images/mri-linac-series-targets'}}], 'started_at': '2025-08-11T15:54:11.871413', 'completed_at': '2025-08-11T15:54:16.851256'}{'pk': 'db46ecbc-0713-4281-8f7b-32bd4fae66d7', 'ground_truth_directory': '/rodata/mnradonc_dev/m299164/trackrad/datasets/trackrad2025/trackrad2025_labeled_training_data', 'input_directory': 'tmp/predictions/baseline', 'output_directory': 'tmp/output/baseline', 'inputs': [{'value': 8, 'interface': {'slug': 'frame-rate'}}, {'value': 1.5, 'interface': {'slug': 'magnetic-field-strength'}}, {'value': 'abdomen', 'interface': {'slug': 'scanned-region'}}, {'image': {'name': 'mri-linac-target.mha'}, 'interface': {'slug': 'mri-linac-target', 'relative_path': 'images/mri-linac-target'}}, {'image': {'name': 'A_032.mha'}, 'interface': {'slug': 'mri-linac-series', 'relative_path': 'images/mri-linacs'}}], 'status': 'Succeeded', 'outputs': [{'image': {'name': 'output.mha'}, 'interface': {'slug': 'mri-linac-series-targets', 'relative_path': 'images/mri-linac-series-targets'}}], 'started_at': '2025-08-11T15:54:48.225354', 'completed_at': '2025-08-11T15:55:02.589925'}{'pk': '4ed4dcd2-1266-418b-aa3f-ff0ba42deac4', 'ground_truth_directory': '/rodata/mnradonc_dev/m299164/trackrad/datasets/trackrad2025/trackrad2025_labeled_training_data', 'input_directory': 'tmp/predictions/baseline', 'output_directory': 'tmp/output/baseline', 'inputs': [{'value': 8, 'interface': {'slug': 'frame-rate'}}, {'value': 1.5, 'interface': {'slug': 'magnetic-field-strength'}}, {'value': 'abdomen', 'interface': {'slug': 'scanned-region'}}, {'image': {'name': 'mri-linac-target.mha'}, 'interface': {'slug': 'mri-linac-target', 'relative_path': 'images/mri-linac-target'}}, {'image': {'name': 'C_004.mha'}, 'interface': {'slug': 'mri-linac-series', 'relative_path': 'images/mri-linacs'}}], 'status': 'Succeeded', 'outputs': [{'image': {'name': 'output.mha'}, 'interface': {'slug': 'mri-linac-series-targets', 'relative_path': 'images/mri-linac-series-targets'}}], 'started_at': '2025-08-11T15:54:02.893291', 'completed_at': '2025-08-11T15:54:07.581574'}{'pk': '9fa9ac6f-a3c7-4c71-85d5-f1d6d71bc7d1', 'ground_truth_directory': '/rodata/mnradonc_dev/m299164/trackrad/datasets/trackrad2025/trackrad2025_labeled_training_data', 'input_directory': 'tmp/predictions/baseline', 'output_directory': 'tmp/output/baseline', 'inputs': [{'value': 8, 'interface': {'slug': 'frame-rate'}}, {'value': 1.5, 'interface': {'slug': 'magnetic-field-strength'}}, {'value': 'abdomen', 'interface': {'slug': 'scanned-region'}}, {'image': {'name': 'mri-linac-target.mha'}, 'interface': {'slug': 'mri-linac-target', 'relative_path': 'images/mri-linac-target'}}, {'image': {'name': 'A_019.mha'}, 'interface': {'slug': 'mri-linac-series', 'relative_path': 'images/mri-linacs'}}], 'status': 'Succeeded', 'outputs': [{'image': {'name': 'output.mha'}, 'interface': {'slug': 'mri-linac-series-targets', 'relative_path': 'images/mri-linac-series-targets'}}], 'started_at': '2025-08-11T15:58:25.332593', 'completed_at': '2025-08-11T15:58:32.045869'}{'pk': 'e3bdb1c1-e1b0-4188-99f0-3e53565d24c5', 'ground_truth_directory': '/rodata/mnradonc_dev/m299164/trackrad/datasets/trackrad2025/trackrad2025_labeled_training_data', 'input_directory': 'tmp/predictions/baseline', 'output_directory': 'tmp/output/baseline', 'inputs': [{'value': 8, 'interface': {'slug': 'frame-rate'}}, {'value': 1.5, 'interface': {'slug': 'magnetic-field-strength'}}, {'value': 'abdomen', 'interface': {'slug': 'scanned-region'}}, {'image': {'name': 'mri-linac-target.mha'}, 'interface': {'slug': 'mri-linac-target', 'relative_path': 'images/mri-linac-target'}}, {'image': {'name': 'A_027.mha'}, 'interface': {'slug': 'mri-linac-series', 'relative_path': 'images/mri-linacs'}}], 'status': 'Succeeded', 'outputs': [{'image': {'name': 'output.mha'}, 'interface': {'slug': 'mri-linac-series-targets', 'relative_path': 'images/mri-linac-series-targets'}}], 'started_at': '2025-08-11T15:58:32.049699', 'completed_at': '2025-08-11T15:58:39.037807'}\n",
      "{'pk': 'a06b9993-40bf-4245-903a-b321f27a007b', 'ground_truth_directory': '/rodata/mnradonc_dev/m299164/trackrad/datasets/trackrad2025/trackrad2025_labeled_training_data', 'input_directory': 'tmp/predictions/baseline', 'output_directory': 'tmp/output/baseline', 'inputs': [{'value': 8, 'interface': {'slug': 'frame-rate'}}, {'value': 1.5, 'interface': {'slug': 'magnetic-field-strength'}}, {'value': 'abdomen', 'interface': {'slug': 'scanned-region'}}, {'image': {'name': 'mri-linac-target.mha'}, 'interface': {'slug': 'mri-linac-target', 'relative_path': 'images/mri-linac-target'}}, {'image': {'name': 'A_008.mha'}, 'interface': {'slug': 'mri-linac-series', 'relative_path': 'images/mri-linacs'}}], 'status': 'Succeeded', 'outputs': [{'image': {'name': 'output.mha'}, 'interface': {'slug': 'mri-linac-series-targets', 'relative_path': 'images/mri-linac-series-targets'}}], 'started_at': '2025-08-11T15:54:36.127822', 'completed_at': '2025-08-11T15:54:43.754370'}{'pk': '29ce1ad4-33ce-4ccb-8d37-37e9f2f36c38', 'ground_truth_directory': '/rodata/mnradonc_dev/m299164/trackrad/datasets/trackrad2025/trackrad2025_labeled_training_data', 'input_directory': 'tmp/predictions/baseline', 'output_directory': 'tmp/output/baseline', 'inputs': [{'value': 8, 'interface': {'slug': 'frame-rate'}}, {'value': 1.5, 'interface': {'slug': 'magnetic-field-strength'}}, {'value': 'abdomen', 'interface': {'slug': 'scanned-region'}}, {'image': {'name': 'mri-linac-target.mha'}, 'interface': {'slug': 'mri-linac-target', 'relative_path': 'images/mri-linac-target'}}, {'image': {'name': 'C_008.mha'}, 'interface': {'slug': 'mri-linac-series', 'relative_path': 'images/mri-linacs'}}], 'status': 'Succeeded', 'outputs': [{'image': {'name': 'output.mha'}, 'interface': {'slug': 'mri-linac-series-targets', 'relative_path': 'images/mri-linac-series-targets'}}], 'started_at': '2025-08-11T15:57:03.112784', 'completed_at': '2025-08-11T15:57:07.442545'}\n",
      "\n",
      "\n",
      "\n",
      "{'pk': '4434b9fe-a8b2-43c2-a621-de8d160b4c9e', 'ground_truth_directory': '/rodata/mnradonc_dev/m299164/trackrad/datasets/trackrad2025/trackrad2025_labeled_training_data', 'input_directory': 'tmp/predictions/baseline', 'output_directory': 'tmp/output/baseline', 'inputs': [{'value': 8, 'interface': {'slug': 'frame-rate'}}, {'value': 1.5, 'interface': {'slug': 'magnetic-field-strength'}}, {'value': 'abdomen', 'interface': {'slug': 'scanned-region'}}, {'image': {'name': 'mri-linac-target.mha'}, 'interface': {'slug': 'mri-linac-target', 'relative_path': 'images/mri-linac-target'}}, {'image': {'name': 'A_003.mha'}, 'interface': {'slug': 'mri-linac-series', 'relative_path': 'images/mri-linacs'}}], 'status': 'Succeeded', 'outputs': [{'image': {'name': 'output.mha'}, 'interface': {'slug': 'mri-linac-series-targets', 'relative_path': 'images/mri-linac-series-targets'}}], 'started_at': '2025-08-11T15:53:30.441614', 'completed_at': '2025-08-11T15:53:41.312460'}{'pk': 'fa49d421-58d6-4a32-ad8d-9cd37eb88398', 'ground_truth_directory': '/rodata/mnradonc_dev/m299164/trackrad/datasets/trackrad2025/trackrad2025_labeled_training_data', 'input_directory': 'tmp/predictions/baseline', 'output_directory': 'tmp/output/baseline', 'inputs': [{'value': 8, 'interface': {'slug': 'frame-rate'}}, {'value': 1.5, 'interface': {'slug': 'magnetic-field-strength'}}, {'value': 'abdomen', 'interface': {'slug': 'scanned-region'}}, {'image': {'name': 'mri-linac-target.mha'}, 'interface': {'slug': 'mri-linac-target', 'relative_path': 'images/mri-linac-target'}}, {'image': {'name': 'B_012.mha'}, 'interface': {'slug': 'mri-linac-series', 'relative_path': 'images/mri-linacs'}}], 'status': 'Succeeded', 'outputs': [{'image': {'name': 'output.mha'}, 'interface': {'slug': 'mri-linac-series-targets', 'relative_path': 'images/mri-linac-series-targets'}}], 'started_at': '2025-08-11T15:56:06.621089', 'completed_at': '2025-08-11T15:56:14.019851'}\n",
      "\n",
      "\n",
      "{'pk': '89c1b349-cbd6-45fe-ac81-2e24be081a78', 'ground_truth_directory': '/rodata/mnradonc_dev/m299164/trackrad/datasets/trackrad2025/trackrad2025_labeled_training_data', 'input_directory': 'tmp/predictions/baseline', 'output_directory': 'tmp/output/baseline', 'inputs': [{'value': 8, 'interface': {'slug': 'frame-rate'}}, {'value': 1.5, 'interface': {'slug': 'magnetic-field-strength'}}, {'value': 'abdomen', 'interface': {'slug': 'scanned-region'}}, {'image': {'name': 'mri-linac-target.mha'}, 'interface': {'slug': 'mri-linac-target', 'relative_path': 'images/mri-linac-target'}}, {'image': {'name': 'A_013.mha'}, 'interface': {'slug': 'mri-linac-series', 'relative_path': 'images/mri-linacs'}}], 'status': 'Succeeded', 'outputs': [{'image': {'name': 'output.mha'}, 'interface': {'slug': 'mri-linac-series-targets', 'relative_path': 'images/mri-linac-series-targets'}}], 'started_at': '2025-08-11T15:57:41.536290', 'completed_at': '2025-08-11T15:57:48.937324'}{'pk': 'b84f2f2b-e53c-4362-a6bc-b8ecab104d6c', 'ground_truth_directory': '/rodata/mnradonc_dev/m299164/trackrad/datasets/trackrad2025/trackrad2025_labeled_training_data', 'input_directory': 'tmp/predictions/baseline', 'output_directory': 'tmp/output/baseline', 'inputs': [{'value': 8, 'interface': {'slug': 'frame-rate'}}, {'value': 1.5, 'interface': {'slug': 'magnetic-field-strength'}}, {'value': 'abdomen', 'interface': {'slug': 'scanned-region'}}, {'image': {'name': 'mri-linac-target.mha'}, 'interface': {'slug': 'mri-linac-target', 'relative_path': 'images/mri-linac-target'}}, {'image': {'name': 'A_023.mha'}, 'interface': {'slug': 'mri-linac-series', 'relative_path': 'images/mri-linacs'}}], 'status': 'Succeeded', 'outputs': [{'image': {'name': 'output.mha'}, 'interface': {'slug': 'mri-linac-series-targets', 'relative_path': 'images/mri-linac-series-targets'}}], 'started_at': '2025-08-11T15:58:18.404257', 'completed_at': '2025-08-11T15:58:25.328649'}{'pk': '7c6f68b9-058a-4528-ae53-240ef9488dba', 'ground_truth_directory': '/rodata/mnradonc_dev/m299164/trackrad/datasets/trackrad2025/trackrad2025_labeled_training_data', 'input_directory': 'tmp/predictions/baseline', 'output_directory': 'tmp/output/baseline', 'inputs': [{'value': 8, 'interface': {'slug': 'frame-rate'}}, {'value': 1.5, 'interface': {'slug': 'magnetic-field-strength'}}, {'value': 'abdomen', 'interface': {'slug': 'scanned-region'}}, {'image': {'name': 'mri-linac-target.mha'}, 'interface': {'slug': 'mri-linac-target', 'relative_path': 'images/mri-linac-target'}}, {'image': {'name': 'B_007.mha'}, 'interface': {'slug': 'mri-linac-series', 'relative_path': 'images/mri-linacs'}}], 'status': 'Succeeded', 'outputs': [{'image': {'name': 'output.mha'}, 'interface': {'slug': 'mri-linac-series-targets', 'relative_path': 'images/mri-linac-series-targets'}}], 'started_at': '2025-08-11T15:57:15.024347', 'completed_at': '2025-08-11T15:57:22.501776'}{'pk': 'e18e73a8-7564-4238-a64e-e37f0e5a7202', 'ground_truth_directory': '/rodata/mnradonc_dev/m299164/trackrad/datasets/trackrad2025/trackrad2025_labeled_training_data', 'input_directory': 'tmp/predictions/baseline', 'output_directory': 'tmp/output/baseline', 'inputs': [{'value': 8, 'interface': {'slug': 'frame-rate'}}, {'value': 1.5, 'interface': {'slug': 'magnetic-field-strength'}}, {'value': 'abdomen', 'interface': {'slug': 'scanned-region'}}, {'image': {'name': 'mri-linac-target.mha'}, 'interface': {'slug': 'mri-linac-target', 'relative_path': 'images/mri-linac-target'}}, {'image': {'name': 'C_006.mha'}, 'interface': {'slug': 'mri-linac-series', 'relative_path': 'images/mri-linacs'}}], 'status': 'Succeeded', 'outputs': [{'image': {'name': 'output.mha'}, 'interface': {'slug': 'mri-linac-series-targets', 'relative_path': 'images/mri-linac-series-targets'}}], 'started_at': '2025-08-11T15:57:29.997271', 'completed_at': '2025-08-11T15:57:34.402494'}\n",
      "{'pk': '186a91ec-46ad-4b3b-8daa-7c69cd61367b', 'ground_truth_directory': '/rodata/mnradonc_dev/m299164/trackrad/datasets/trackrad2025/trackrad2025_labeled_training_data', 'input_directory': 'tmp/predictions/baseline', 'output_directory': 'tmp/output/baseline', 'inputs': [{'value': 8, 'interface': {'slug': 'frame-rate'}}, {'value': 1.5, 'interface': {'slug': 'magnetic-field-strength'}}, {'value': 'abdomen', 'interface': {'slug': 'scanned-region'}}, {'image': {'name': 'mri-linac-target.mha'}, 'interface': {'slug': 'mri-linac-target', 'relative_path': 'images/mri-linac-target'}}, {'image': {'name': 'B_022.mha'}, 'interface': {'slug': 'mri-linac-series', 'relative_path': 'images/mri-linacs'}}], 'status': 'Succeeded', 'outputs': [{'image': {'name': 'output.mha'}, 'interface': {'slug': 'mri-linac-series-targets', 'relative_path': 'images/mri-linac-series-targets'}}], 'started_at': '2025-08-11T15:55:02.595364', 'completed_at': '2025-08-11T15:55:10.367532'}\n",
      "\n",
      "\n",
      "\n",
      "\n",
      "{'pk': '1b7e9e65-0bcd-4e8f-a13d-1caf9e45b91f', 'ground_truth_directory': '/rodata/mnradonc_dev/m299164/trackrad/datasets/trackrad2025/trackrad2025_labeled_training_data', 'input_directory': 'tmp/predictions/baseline', 'output_directory': 'tmp/output/baseline', 'inputs': [{'value': 8, 'interface': {'slug': 'frame-rate'}}, {'value': 1.5, 'interface': {'slug': 'magnetic-field-strength'}}, {'value': 'abdomen', 'interface': {'slug': 'scanned-region'}}, {'image': {'name': 'mri-linac-target.mha'}, 'interface': {'slug': 'mri-linac-target', 'relative_path': 'images/mri-linac-target'}}, {'image': {'name': 'A_014.mha'}, 'interface': {'slug': 'mri-linac-series', 'relative_path': 'images/mri-linacs'}}], 'status': 'Succeeded', 'outputs': [{'image': {'name': 'output.mha'}, 'interface': {'slug': 'mri-linac-series-targets', 'relative_path': 'images/mri-linac-series-targets'}}], 'started_at': '2025-08-11T15:53:49.037379', 'completed_at': '2025-08-11T15:53:55.522337'}{'pk': 'cb0c3e8e-9117-4cbc-bae8-50a368504852', 'ground_truth_directory': '/rodata/mnradonc_dev/m299164/trackrad/datasets/trackrad2025/trackrad2025_labeled_training_data', 'input_directory': 'tmp/predictions/baseline', 'output_directory': 'tmp/output/baseline', 'inputs': [{'value': 8, 'interface': {'slug': 'frame-rate'}}, {'value': 1.5, 'interface': {'slug': 'magnetic-field-strength'}}, {'value': 'abdomen', 'interface': {'slug': 'scanned-region'}}, {'image': {'name': 'mri-linac-target.mha'}, 'interface': {'slug': 'mri-linac-target', 'relative_path': 'images/mri-linac-target'}}, {'image': {'name': 'B_024.mha'}, 'interface': {'slug': 'mri-linac-series', 'relative_path': 'images/mri-linacs'}}], 'status': 'Succeeded', 'outputs': [{'image': {'name': 'output.mha'}, 'interface': {'slug': 'mri-linac-series-targets', 'relative_path': 'images/mri-linac-series-targets'}}], 'started_at': '2025-08-11T15:58:10.924942', 'completed_at': '2025-08-11T15:58:18.399479'}\n",
      "{'pk': 'e47663c9-d299-498d-aedc-467641f47044', 'ground_truth_directory': '/rodata/mnradonc_dev/m299164/trackrad/datasets/trackrad2025/trackrad2025_labeled_training_data', 'input_directory': 'tmp/predictions/baseline', 'output_directory': 'tmp/output/baseline', 'inputs': [{'value': 8, 'interface': {'slug': 'frame-rate'}}, {'value': 1.5, 'interface': {'slug': 'magnetic-field-strength'}}, {'value': 'abdomen', 'interface': {'slug': 'scanned-region'}}, {'image': {'name': 'mri-linac-target.mha'}, 'interface': {'slug': 'mri-linac-target', 'relative_path': 'images/mri-linac-target'}}, {'image': {'name': 'A_016.mha'}, 'interface': {'slug': 'mri-linac-series', 'relative_path': 'images/mri-linacs'}}], 'status': 'Succeeded', 'outputs': [{'image': {'name': 'output.mha'}, 'interface': {'slug': 'mri-linac-series-targets', 'relative_path': 'images/mri-linac-series-targets'}}], 'started_at': '2025-08-11T15:54:24.160545', 'completed_at': '2025-08-11T15:54:36.121953'}\n",
      "\n",
      "\n",
      "{'pk': '891eaf0f-eff1-4c0f-ab85-69376957478f', 'ground_truth_directory': '/rodata/mnradonc_dev/m299164/trackrad/datasets/trackrad2025/trackrad2025_labeled_training_data', 'input_directory': 'tmp/predictions/baseline', 'output_directory': 'tmp/output/baseline', 'inputs': [{'value': 8, 'interface': {'slug': 'frame-rate'}}, {'value': 1.5, 'interface': {'slug': 'magnetic-field-strength'}}, {'value': 'abdomen', 'interface': {'slug': 'scanned-region'}}, {'image': {'name': 'mri-linac-target.mha'}, 'interface': {'slug': 'mri-linac-target', 'relative_path': 'images/mri-linac-target'}}, {'image': {'name': 'A_020.mha'}, 'interface': {'slug': 'mri-linac-series', 'relative_path': 'images/mri-linacs'}}], 'status': 'Succeeded', 'outputs': [{'image': {'name': 'output.mha'}, 'interface': {'slug': 'mri-linac-series-targets', 'relative_path': 'images/mri-linac-series-targets'}}], 'started_at': '2025-08-11T15:56:21.934330', 'completed_at': '2025-08-11T15:56:28.804434'}\n",
      "\n",
      "\n",
      "\n",
      "\n",
      "\n",
      "\n",
      "\n",
      "\n",
      "\n",
      "\n",
      "\n",
      "\n",
      "\n",
      "\n",
      "\n",
      "\n",
      "\n",
      "\n",
      "\n",
      "location_mri_linac_series_targets\n",
      "location_mri_linac_series_targetslocation_mri_linac_series_targetslocation_mri_linac_series_targetslocation_mri_linac_series_targets\n",
      "\n",
      "location_mri_linac_series_targetslocation_mri_linac_series_targetslocation_mri_linac_series_targets\n",
      "\n",
      "\n",
      "\n",
      "\n",
      "location_mri_linac_series_targetslocation_mri_linac_series_targetslocation_mri_linac_series_targetslocation_mri_linac_series_targetslocation_mri_linac_series_targetslocation_mri_linac_series_targets\n",
      "\n",
      "location_mri_linac_series_targets\n",
      "location_mri_linac_series_targetslocation_mri_linac_series_targetslocation_mri_linac_series_targets\n",
      "location_mri_linac_series_targetslocation_mri_linac_series_targetslocation_mri_linac_series_targetslocation_mri_linac_series_targetslocation_mri_linac_series_targetslocation_mri_linac_series_targetslocation_mri_linac_series_targetslocation_mri_linac_series_targetslocation_mri_linac_series_targetslocation_mri_linac_series_targetslocation_mri_linac_series_targetslocation_mri_linac_series_targetslocation_mri_linac_series_targetslocation_mri_linac_series_targetslocation_mri_linac_series_targetslocation_mri_linac_series_targetslocation_mri_linac_series_targetslocation_mri_linac_series_targetslocation_mri_linac_series_targetslocation_mri_linac_series_targets location_mri_linac_series_targets    location_mri_linac_series_targets location_mri_linac_series_targets  location_mri_linac_series_targetslocation_mri_linac_series_targetslocation_mri_linac_series_targetslocation_mri_linac_series_targetslocation_mri_linac_series_targets      location_mri_linac_series_targets location_mri_linac_series_targets location_mri_linac_series_targets   location_mri_linac_series_targets                   tmp/predictions/baseline/6512634f-af22-40f3-bb5d-8c0964e7172b/output/images/mri-linac-series-targets tmp/predictions/baseline/40fbbd42-6b6d-4967-ae2e-f72f93119edb/output/images/mri-linac-series-targetstmp/predictions/baseline/7511efe8-141b-459b-8351-555f9cebc845/output/images/mri-linac-series-targetstmp/predictions/baseline/2ba7956a-493d-4f3b-889c-1635210f0261/output/images/mri-linac-series-targets tmp/predictions/baseline/603dd483-3021-433a-92f6-0ae634da76e2/output/images/mri-linac-series-targetstmp/predictions/baseline/69c5342d-3d94-4ede-b0ee-04687f59eb55/output/images/mri-linac-series-targets tmp/predictions/baseline/b3da4912-6721-4811-85d9-0261ea8ae1a2/output/images/mri-linac-series-targetstmp/predictions/baseline/3581db7a-3595-4559-a615-36905590def0/output/images/mri-linac-series-targets     tmp/predictions/baseline/868603af-a228-4277-bd4f-93a328696ecb/output/images/mri-linac-series-targetstmp/predictions/baseline/570674d0-3f8d-40b9-a1af-13fda5211286/output/images/mri-linac-series-targetstmp/predictions/baseline/54d96c21-30e7-45c3-bc58-86d7fc509480/output/images/mri-linac-series-targetstmp/predictions/baseline/72ecece8-b047-43d7-9ac3-499890de4da1/output/images/mri-linac-series-targetstmp/predictions/baseline/e847adc6-dcd2-41a9-b6d3-d8fb9a3a6eb8/output/images/mri-linac-series-targetstmp/predictions/baseline/31eb6f31-9618-4560-bb47-9b5e2c2efa1f/output/images/mri-linac-series-targets tmp/predictions/baseline/264fe778-efc2-4ca5-b1e7-6c692b630623/output/images/mri-linac-series-targets tmp/predictions/baseline/0bfb17f0-8c34-450c-bdc1-f5d251baec34/output/images/mri-linac-series-targets tmp/predictions/baseline/97520ecd-2667-4bb9-a5f5-ba8631950966/output/images/mri-linac-series-targetstmp/predictions/baseline/f1092029-6be7-402a-9e54-f1685556571d/output/images/mri-linac-series-targetstmp/predictions/baseline/c7082d40-6e52-4de7-b0f3-92ea40888039/output/images/mri-linac-series-targets tmp/predictions/baseline/6505fd28-6da6-452d-9d07-7342bcf380b0/output/images/mri-linac-series-targetstmp/predictions/baseline/264344ad-92bd-4fbb-8366-09037df037e0/output/images/mri-linac-series-targetstmp/predictions/baseline/c808dd31-b93c-45ca-a7da-6bd337a00a5e/output/images/mri-linac-series-targetstmp/predictions/baseline/ebd6fdb8-677e-4a88-976a-17d546c0cb90/output/images/mri-linac-series-targetstmp/predictions/baseline/fceb3e10-a491-45d0-bfc8-420e5395778d/output/images/mri-linac-series-targetstmp/predictions/baseline/13dbe44c-5261-408e-9345-3a9eeb1c3183/output/images/mri-linac-series-targetstmp/predictions/baseline/51182b5c-ecae-4e99-bd77-04e8234b3a24/output/images/mri-linac-series-targetstmp/predictions/baseline/3e885678-51a8-4677-8a9c-c5e5ec624439/output/images/mri-linac-series-targetstmp/predictions/baseline/bae47e33-7921-4fe5-baab-d49db84f1b76/output/images/mri-linac-series-targetstmp/predictions/baseline/272120b3-779e-4739-aabc-6fba33a47a11/output/images/mri-linac-series-targetstmp/predictions/baseline/0003f2fc-03f1-435f-98a1-5fa449204af2/output/images/mri-linac-series-targetstmp/predictions/baseline/7c2f2908-a34d-4603-96df-06a58966323b/output/images/mri-linac-series-targetstmp/predictions/baseline/4e0d0409-0f2f-4f9d-8bfa-16ca06d05f8a/output/images/mri-linac-series-targetstmp/predictions/baseline/0b1426f5-dbbf-4dfa-8adf-60cd829771f4/output/images/mri-linac-series-targetstmp/predictions/baseline/db46ecbc-0713-4281-8f7b-32bd4fae66d7/output/images/mri-linac-series-targetstmp/predictions/baseline/4ed4dcd2-1266-418b-aa3f-ff0ba42deac4/output/images/mri-linac-series-targetstmp/predictions/baseline/e3bdb1c1-e1b0-4188-99f0-3e53565d24c5/output/images/mri-linac-series-targetstmp/predictions/baseline/9fa9ac6f-a3c7-4c71-85d5-f1d6d71bc7d1/output/images/mri-linac-series-targetstmp/predictions/baseline/a06b9993-40bf-4245-903a-b321f27a007b/output/images/mri-linac-series-targets\n",
      "tmp/predictions/baseline/29ce1ad4-33ce-4ccb-8d37-37e9f2f36c38/output/images/mri-linac-series-targets\n",
      "\n",
      "\n",
      "tmp/predictions/baseline/4434b9fe-a8b2-43c2-a621-de8d160b4c9e/output/images/mri-linac-series-targets\n",
      "\n",
      "tmp/predictions/baseline/fa49d421-58d6-4a32-ad8d-9cd37eb88398/output/images/mri-linac-series-targets\n",
      "\n",
      "tmp/predictions/baseline/89c1b349-cbd6-45fe-ac81-2e24be081a78/output/images/mri-linac-series-targetstmp/predictions/baseline/b84f2f2b-e53c-4362-a6bc-b8ecab104d6c/output/images/mri-linac-series-targetstmp/predictions/baseline/7c6f68b9-058a-4528-ae53-240ef9488dba/output/images/mri-linac-series-targetstmp/predictions/baseline/186a91ec-46ad-4b3b-8daa-7c69cd61367b/output/images/mri-linac-series-targetstmp/predictions/baseline/e18e73a8-7564-4238-a64e-e37f0e5a7202/output/images/mri-linac-series-targets\n",
      "\n",
      "\n",
      "\n",
      "\n",
      "\n",
      "tmp/predictions/baseline/1b7e9e65-0bcd-4e8f-a13d-1caf9e45b91f/output/images/mri-linac-series-targets\n",
      "tmp/predictions/baseline/cb0c3e8e-9117-4cbc-bae8-50a368504852/output/images/mri-linac-series-targets\n",
      "tmp/predictions/baseline/e47663c9-d299-498d-aedc-467641f47044/output/images/mri-linac-series-targets\n",
      "\n",
      "\n",
      "\n",
      "tmp/predictions/baseline/891eaf0f-eff1-4c0f-ab85-69376957478f/output/images/mri-linac-series-targets\n",
      "\n",
      "\n",
      "\n",
      "\n",
      "\n",
      "\n",
      "\n",
      "\n",
      "\n",
      "\n",
      "\n",
      "\n",
      "\n",
      "\n",
      "\n",
      "\n",
      "\n",
      "\n",
      "\n",
      "\n",
      "\n",
      "\n",
      "\n",
      "\n",
      "\n",
      "\n",
      "\n",
      "\n",
      "\n",
      "A_022\n",
      "A_026\n",
      "A_014A_019A_012\n",
      "\n",
      "A_004\n",
      "A_027C_009\n",
      "\n",
      "A_028\n",
      "A_001\n",
      "A_020\n",
      "\n",
      "C_005C_016C_011C_001\n",
      "\n",
      "\n",
      "\n",
      "A_023C_012\n",
      "C_010\n",
      "C_004\n",
      "\n",
      "C_006C_008\n",
      "\n",
      "A_021\n",
      "A_025A_003A_008A_016A_024\n",
      "\n",
      "\n",
      "\n",
      "\n",
      "A_029\n",
      "A_013\n",
      "A_011\n",
      "B_010B_003\n",
      "\n",
      "B_019B_025\n",
      "\n",
      "B_017\n",
      "B_026\n",
      "B_008\n",
      "A_010A_032\n",
      "B_006B_023\n",
      "B_021\n",
      "B_002\n",
      "\n",
      "\n",
      "B_012B_007\n",
      "\n",
      "B_022B_024A_007\n",
      "\n",
      "\n",
      "A_006\n",
      "A_005\n"
     ]
    }
   ],
   "source": [
    "for model_out_path in [MODEL_OUT_PATH / \"sam2-only\"]:\n",
    "    predictions = []\n",
    "    for json_file in model_out_path.rglob(\"*.json\"):\n",
    "        with json_file.open(\"r\") as infile:\n",
    "            content = json.loads(infile.read().strip())\n",
    "            if content:\n",
    "                predictions.append(content)\n",
    "\n",
    "    output_file = model_out_path / \"predictions.json\"\n",
    "    with output_file.open(\"w\") as outfile:\n",
    "        json.dump(predictions, outfile)\n",
    "\n",
    "    eval_out_path = EVAL_OUT_PATH / model_out_path.name\n",
    "    eval_out_path.mkdir(parents=True, exist_ok=True)\n",
    "    evaluate.main(input_directory=model_out_path, output_directory=eval_out_path)"
   ]
  },
  {
   "cell_type": "code",
   "execution_count": null,
   "id": "97943678",
   "metadata": {},
   "outputs": [
    {
     "name": "stdout",
     "output_type": "stream",
     "text": [
      "baseline:\n",
      "{'center_distance': 3.733786919889287,\n",
      " 'dice_similarity_coefficient': 0.8801941977957676,\n",
      " 'hausdorff_distance_95': 5.715335896202309,\n",
      " 'loading_time': 1.898943533735071,\n",
      " 'relative_d98_dose': 0.8903327089611278,\n",
      " 'runtime': 5.720219446264929,\n",
      " 'surface_distance_average': 2.414704306000231,\n",
      " 'time_per_frame': 0.056894961669633246,\n",
      " 'total_time': 380.9581490000001}\n"
     ]
    }
   ],
   "source": [
    "baseline_metrics_file = EVAL_OUT_PATH / \"sam2-only\" / \"metrics.json\"\n",
    "with baseline_metrics_file.open(\"r\") as f:\n",
    "    baseline_metrics = json.load(f)\n",
    "print(\"sam2-only:\")\n",
    "pprint(baseline_metrics[\"aggregates\"])\n",
    "\n",
    "\n",
    "baseline_dice = {\n",
    "    r[\"case_id\"]: r[\"dice_similarity_coefficient\"] for r in baseline_metrics[\"results\"]\n",
    "}"
   ]
  },
  {
   "cell_type": "code",
   "execution_count": null,
   "id": "b27534d6",
   "metadata": {},
   "outputs": [],
   "source": [
    "# after = {\n",
    "#     \"center_distance\": 1.3046445819475643,\n",
    "#     \"dice_similarity_coefficient\": 0.920104286178238,\n",
    "#     \"hausdorff_distance_95\": 3.1441829912556383,\n",
    "#     \"loading_time\": 1.8490781539150303,\n",
    "#     \"relative_d98_dose\": 0.9677078721474955,\n",
    "#     \"runtime\": 5.5294807060849696,\n",
    "#     \"surface_distance_average\": 1.1402019564120371,\n",
    "#     \"time_per_frame\": 0.054997818839118445,\n",
    "#     \"total_time\": 368.927943,\n",
    "# }\n",
    "\n",
    "# before = {\n",
    "#     \"center_distance\": 1.3313475618149924,\n",
    "#     \"dice_similarity_coefficient\": 0.9186995586692427,\n",
    "#     \"hausdorff_distance_95\": 3.2305672318119276,\n",
    "#     \"loading_time\": 1.7498454130518974,\n",
    "#     \"relative_d98_dose\": 0.9613066590962253,\n",
    "#     \"runtime\": 5.658172566948103,\n",
    "#     \"surface_distance_average\": 1.1612007734907186,\n",
    "#     \"time_per_frame\": 0.05627782541225483,\n",
    "#     \"total_time\": 370.4008989999999,\n",
    "# }\n",
    "\n",
    "# %matplotlib inline\n",
    "# import matplotlib.pyplot as plt\n",
    "\n",
    "# metrics_to_plot = [\n",
    "#     \"dice_similarity_coefficient\",\n",
    "#     \"center_distance\",\n",
    "#     \"hausdorff_distance_95\",\n",
    "#     \"surface_distance_average\",\n",
    "#     \"relative_d98_dose\",\n",
    "# ]\n",
    "\n",
    "# changes = [(before[m] - after[m]) / before[m] for m in metrics_to_plot]\n",
    "# changes[0] = -changes[0]\n",
    "# changes[4] = -changes[4]\n",
    "\n",
    "# plt.figure(figsize=(8, 4))\n",
    "# bars = plt.bar(metrics_to_plot, changes)\n",
    "# plt.ylabel(\"Change (After - Before)\")\n",
    "# plt.title(\"Metric Change After vs Before\")\n",
    "# plt.axhline(0, color=\"gray\", linestyle=\"--\", linewidth=1)\n",
    "# plt.xticks(rotation=30, ha=\"right\")\n",
    "# plt.tight_layout()\n",
    "# plt.show()"
   ]
  }
 ],
 "metadata": {
  "kernelspec": {
   "display_name": "trackrad-model",
   "language": "python",
   "name": "python3"
  },
  "language_info": {
   "codemirror_mode": {
    "name": "ipython",
    "version": 3
   },
   "file_extension": ".py",
   "mimetype": "text/x-python",
   "name": "python",
   "nbconvert_exporter": "python",
   "pygments_lexer": "ipython3",
   "version": "3.11.5"
  }
 },
 "nbformat": 4,
 "nbformat_minor": 5
}
